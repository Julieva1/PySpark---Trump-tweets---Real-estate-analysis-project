{
 "cells": [
  {
   "cell_type": "markdown",
   "metadata": {},
   "source": [
    "# <span style=\"color:midnightblue\"> Part 2: Real Estate Market Data Exploration in major French Cities "
   ]
  },
  {
   "cell_type": "markdown",
   "metadata": {},
   "source": [
    " ##### Alexandra AMIENS, Claire ZOUAOUI et Julieva COHEN-SORS"
   ]
  },
  {
   "cell_type": "markdown",
   "metadata": {},
   "source": [
    "<span style=\"color:midnightblue\"> The objective of the project is to perform real estate data exploration of major French cities.\n",
    "The company (Immo-Inv) is a real estate agency who wants to understand very well the real estate market in France.\n",
    "As a big data analyst of the company and we have access to a 5-years data history of real estate transactions in France (real_estate_transactions.csv).\n",
    "The dataset contains details for each transaction: sale date, localization (city,\n",
    "postal code), type of residence, type of sale, land area, living area, number of\n",
    "rooms, price, etc.).\n",
    "\n",
    "On our work we will explore all possible aspects of this real estate market.\n",
    "At the end we will came with 6 findings:\n",
    "\n",
    "1- High cost / low cost cities depending on the price per M2\n",
    "    \n",
    "2- Analysis of the value of cities and their communes regarding the prices (Cluster Analysis)\n",
    "    \n",
    "3- Evolution of the prices (per cluster) per year\n",
    "\n",
    "4- Dynamism of the Real estate market: The most Attractive City, regarding the number of sales registered\n",
    "    \n",
    "5- Difference of number of House and Apartement sold per cities over the years\n",
    "    \n",
    "6- The Prices Difference between Houses and Apartment\n"
   ]
  },
  {
   "cell_type": "markdown",
   "metadata": {},
   "source": [
    "## <span style=\"color:midnightblue\"> Import the Data"
   ]
  },
  {
   "cell_type": "code",
   "execution_count": 1,
   "metadata": {},
   "outputs": [],
   "source": [
    "import pandas as pd\n",
    "import numpy as np\n",
    "import matplotlib.pyplot as plt\n",
    "import pyspark"
   ]
  },
  {
   "cell_type": "code",
   "execution_count": 2,
   "metadata": {},
   "outputs": [],
   "source": [
    "sc = pyspark.SparkContext(appName=\"Spark-RDD-Real-Estate\")"
   ]
  },
  {
   "cell_type": "code",
   "execution_count": 3,
   "metadata": {},
   "outputs": [],
   "source": [
    "realestate = 'real_estate_transactions.csv'"
   ]
  },
  {
   "cell_type": "code",
   "execution_count": 4,
   "metadata": {},
   "outputs": [
    {
     "data": {
      "text/plain": [
       "[['City',\n",
       "  'Sale Date',\n",
       "  'Sale Type',\n",
       "  'Price',\n",
       "  'Postal Code',\n",
       "  'Commune',\n",
       "  'Number of lots',\n",
       "  'Local Type',\n",
       "  'Living Area',\n",
       "  'Number of rooms',\n",
       "  'Land Area'],\n",
       " ['NICE',\n",
       "  '26/03/2015',\n",
       "  'SALE',\n",
       "  '102000,00',\n",
       "  '6000',\n",
       "  'NICE',\n",
       "  '1',\n",
       "  'APARTMENT',\n",
       "  '29',\n",
       "  '2',\n",
       "  ''],\n",
       " ['NICE',\n",
       "  '07/04/2015',\n",
       "  'SALE',\n",
       "  '32000,00',\n",
       "  '6000',\n",
       "  'NICE',\n",
       "  '1',\n",
       "  'DEPENDENCY',\n",
       "  '0',\n",
       "  '0',\n",
       "  ''],\n",
       " ['NICE',\n",
       "  '10/04/2015',\n",
       "  'SALE',\n",
       "  '239000,00',\n",
       "  '6200',\n",
       "  'NICE',\n",
       "  '1',\n",
       "  'APARTMENT',\n",
       "  '51',\n",
       "  '2',\n",
       "  ''],\n",
       " ['NICE',\n",
       "  '10/04/2015',\n",
       "  'SALE',\n",
       "  '239000,00',\n",
       "  '6200',\n",
       "  'NICE',\n",
       "  '1',\n",
       "  'DEPENDENCY',\n",
       "  '0',\n",
       "  '0',\n",
       "  ''],\n",
       " ['NICE',\n",
       "  '23/03/2015',\n",
       "  'SALE',\n",
       "  '30000,00',\n",
       "  '6000',\n",
       "  'NICE',\n",
       "  '1',\n",
       "  'DEPENDENCY',\n",
       "  '0',\n",
       "  '0',\n",
       "  ''],\n",
       " ['NICE',\n",
       "  '23/03/2015',\n",
       "  'SALE',\n",
       "  '410000,00',\n",
       "  '6200',\n",
       "  'NICE',\n",
       "  '2',\n",
       "  'APARTMENT',\n",
       "  '60',\n",
       "  '3',\n",
       "  ''],\n",
       " ['NICE',\n",
       "  '08/04/2015',\n",
       "  'SALE',\n",
       "  '215000,00',\n",
       "  '6200',\n",
       "  'NICE',\n",
       "  '1',\n",
       "  'DEPENDENCY',\n",
       "  '0',\n",
       "  '0',\n",
       "  ''],\n",
       " ['NICE',\n",
       "  '08/04/2015',\n",
       "  'SALE',\n",
       "  '215000,00',\n",
       "  '6200',\n",
       "  'NICE',\n",
       "  '1',\n",
       "  'APARTMENT',\n",
       "  '67',\n",
       "  '3',\n",
       "  ''],\n",
       " ['NICE',\n",
       "  '20/03/2015',\n",
       "  'SALE',\n",
       "  '625000,00',\n",
       "  '6200',\n",
       "  'NICE',\n",
       "  '0',\n",
       "  'HOUSE',\n",
       "  '160',\n",
       "  '5',\n",
       "  '500']]"
      ]
     },
     "execution_count": 4,
     "metadata": {},
     "output_type": "execute_result"
    }
   ],
   "source": [
    "rdd_realestate = sc.textFile(realestate)\\\n",
    "                   .map(lambda line: line.split(\";\"))\\\n",
    "                   .filter(lambda line: len(line)>1) \\\n",
    "                   .map(lambda line: (line[0:]))\n",
    "\n",
    "rdd_realestate.take(10)"
   ]
  },
  {
   "cell_type": "code",
   "execution_count": 5,
   "metadata": {},
   "outputs": [
    {
     "data": {
      "text/plain": [
       "['City',\n",
       " 'Sale Date',\n",
       " 'Sale Type',\n",
       " 'Price',\n",
       " 'Postal Code',\n",
       " 'Commune',\n",
       " 'Number of lots',\n",
       " 'Local Type',\n",
       " 'Living Area',\n",
       " 'Number of rooms',\n",
       " 'Land Area']"
      ]
     },
     "execution_count": 5,
     "metadata": {},
     "output_type": "execute_result"
    }
   ],
   "source": [
    "rdd_realestate.first()"
   ]
  },
  {
   "cell_type": "code",
   "execution_count": 6,
   "metadata": {},
   "outputs": [
    {
     "data": {
      "text/plain": [
       "909724"
      ]
     },
     "execution_count": 6,
     "metadata": {},
     "output_type": "execute_result"
    }
   ],
   "source": [
    "top = rdd_realestate.first()\n",
    "rdd_realestate = rdd_realestate.filter(lambda line: line != top) \n",
    "rdd_realestate.count()"
   ]
  },
  {
   "cell_type": "raw",
   "metadata": {},
   "source": [
    "The dataset is composed of 909724 lines"
   ]
  },
  {
   "cell_type": "markdown",
   "metadata": {},
   "source": [
    "## <span style=\"color:midnightblue\"> Data Cleaning"
   ]
  },
  {
   "cell_type": "markdown",
   "metadata": {},
   "source": [
    "### <span style=\"color:midnightblue\"> Removing outliers"
   ]
  },
  {
   "cell_type": "markdown",
   "metadata": {},
   "source": [
    "#### <span style=\"color:midnightblue\"> Sale Type:keep only \"SALE\" and \"SALE BEFORE COMPLETION\" transactions "
   ]
  },
  {
   "cell_type": "code",
   "execution_count": 7,
   "metadata": {},
   "outputs": [
    {
     "data": {
      "text/plain": [
       "6"
      ]
     },
     "execution_count": 7,
     "metadata": {},
     "output_type": "execute_result"
    }
   ],
   "source": [
    "rdd_realestate.map(lambda field: field[2]).distinct().count()\n"
   ]
  },
  {
   "cell_type": "markdown",
   "metadata": {},
   "source": [
    "There are 6 different types of transactions:\n",
    "- Adjudication\n",
    "- Exchange\n",
    "- Expropriation\n",
    "- Land Only Sale\n",
    "- Sale\n",
    "- Sale Before Completion"
   ]
  },
  {
   "cell_type": "code",
   "execution_count": 8,
   "metadata": {
    "scrolled": true
   },
   "outputs": [
    {
     "data": {
      "text/plain": [
       "[('SALE BEFORE COMPLETION', 147708), ('SALE', 754464)]"
      ]
     },
     "execution_count": 8,
     "metadata": {},
     "output_type": "execute_result"
    }
   ],
   "source": [
    "rdd_realestate = rdd_realestate.filter(lambda tuple: tuple[2] == 'SALE BEFORE COMPLETION' or tuple[2] == 'SALE')\n",
    "\n",
    "rdd_realestate.map(lambda tuple: (tuple[2],1))\\\n",
    "              .reduceByKey(lambda x,y : x+y)\\\n",
    "              .take(2)"
   ]
  },
  {
   "cell_type": "code",
   "execution_count": 9,
   "metadata": {},
   "outputs": [
    {
     "data": {
      "text/plain": [
       "2"
      ]
     },
     "execution_count": 9,
     "metadata": {},
     "output_type": "execute_result"
    }
   ],
   "source": [
    "rdd_realestate.map(lambda tuple: tuple[2]).distinct().count()"
   ]
  },
  {
   "cell_type": "markdown",
   "metadata": {},
   "source": [
    "In order to simplify the analalysis, after modifications only two types remains:\n",
    "- Sale\n",
    "- Sale Before Completion\n"
   ]
  },
  {
   "cell_type": "code",
   "execution_count": 10,
   "metadata": {},
   "outputs": [
    {
     "data": {
      "text/plain": [
       "902172"
      ]
     },
     "execution_count": 10,
     "metadata": {},
     "output_type": "execute_result"
    }
   ],
   "source": [
    "rdd_realestate.count()"
   ]
  },
  {
   "cell_type": "markdown",
   "metadata": {},
   "source": [
    "#### <span style=\"color:midnightblue\"> Local Type: keep only \"APARTMENT\" and \"HOUSE\""
   ]
  },
  {
   "cell_type": "code",
   "execution_count": 11,
   "metadata": {},
   "outputs": [
    {
     "data": {
      "text/plain": [
       "5"
      ]
     },
     "execution_count": 11,
     "metadata": {},
     "output_type": "execute_result"
    }
   ],
   "source": [
    "rdd_realestate.map(lambda field: field[7]).distinct().count()\n"
   ]
  },
  {
   "cell_type": "markdown",
   "metadata": {},
   "source": [
    "There are 5 Local Types :\n",
    "- Apartment\n",
    "- House\n",
    "- Industrial\n",
    "- Dependency\n",
    "- (Empty)\n"
   ]
  },
  {
   "cell_type": "code",
   "execution_count": 12,
   "metadata": {},
   "outputs": [
    {
     "data": {
      "text/plain": [
       "[('APARTMENT', 445686), ('HOUSE', 37619)]"
      ]
     },
     "execution_count": 12,
     "metadata": {},
     "output_type": "execute_result"
    }
   ],
   "source": [
    "rdd_realestate = rdd_realestate.filter(lambda tuple: tuple[7] == 'HOUSE' or tuple[7] == 'APARTMENT')\n",
    "\n",
    "rdd_realestate.map(lambda tuple: (tuple[7],1))\\\n",
    "              .reduceByKey(lambda x,y : x+y)\\\n",
    "              .take(2)\n"
   ]
  },
  {
   "cell_type": "code",
   "execution_count": 13,
   "metadata": {},
   "outputs": [
    {
     "data": {
      "text/plain": [
       "2"
      ]
     },
     "execution_count": 13,
     "metadata": {},
     "output_type": "execute_result"
    }
   ],
   "source": [
    "rdd_realestate.map(lambda tuple: tuple[7]).distinct().count()"
   ]
  },
  {
   "cell_type": "markdown",
   "metadata": {},
   "source": [
    "Also in order to simplify the coming analysis, let's keep only two types of Local:\n",
    " - Apartment\n",
    " - House"
   ]
  },
  {
   "cell_type": "code",
   "execution_count": 14,
   "metadata": {},
   "outputs": [
    {
     "data": {
      "text/plain": [
       "483305"
      ]
     },
     "execution_count": 14,
     "metadata": {},
     "output_type": "execute_result"
    }
   ],
   "source": [
    "rdd_realestate.count()"
   ]
  },
  {
   "cell_type": "markdown",
   "metadata": {},
   "source": [
    "#### <span style=\"color:midnightblue\"> Remove transactions without prices, postal code, rooms and living area "
   ]
  },
  {
   "cell_type": "code",
   "execution_count": 16,
   "metadata": {},
   "outputs": [
    {
     "data": {
      "text/plain": [
       "[['NICE',\n",
       "  '26/03/2015',\n",
       "  'SALE',\n",
       "  '102000,00',\n",
       "  '6000',\n",
       "  'NICE',\n",
       "  '1',\n",
       "  'APARTMENT',\n",
       "  '29',\n",
       "  '2',\n",
       "  ''],\n",
       " ['NICE',\n",
       "  '10/04/2015',\n",
       "  'SALE',\n",
       "  '239000,00',\n",
       "  '6200',\n",
       "  'NICE',\n",
       "  '1',\n",
       "  'APARTMENT',\n",
       "  '51',\n",
       "  '2',\n",
       "  ''],\n",
       " ['NICE',\n",
       "  '23/03/2015',\n",
       "  'SALE',\n",
       "  '410000,00',\n",
       "  '6200',\n",
       "  'NICE',\n",
       "  '2',\n",
       "  'APARTMENT',\n",
       "  '60',\n",
       "  '3',\n",
       "  ''],\n",
       " ['NICE',\n",
       "  '08/04/2015',\n",
       "  'SALE',\n",
       "  '215000,00',\n",
       "  '6200',\n",
       "  'NICE',\n",
       "  '1',\n",
       "  'APARTMENT',\n",
       "  '67',\n",
       "  '3',\n",
       "  ''],\n",
       " ['NICE',\n",
       "  '20/03/2015',\n",
       "  'SALE',\n",
       "  '625000,00',\n",
       "  '6200',\n",
       "  'NICE',\n",
       "  '0',\n",
       "  'HOUSE',\n",
       "  '160',\n",
       "  '5',\n",
       "  '500'],\n",
       " ['NICE',\n",
       "  '20/03/2015',\n",
       "  'SALE',\n",
       "  '625000,00',\n",
       "  '6200',\n",
       "  'NICE',\n",
       "  '0',\n",
       "  'HOUSE',\n",
       "  '160',\n",
       "  '5',\n",
       "  '1267'],\n",
       " ['NICE',\n",
       "  '02/04/2015',\n",
       "  'SALE',\n",
       "  '130000,00',\n",
       "  '6200',\n",
       "  'NICE',\n",
       "  '1',\n",
       "  'APARTMENT',\n",
       "  '31',\n",
       "  '1',\n",
       "  ''],\n",
       " ['NICE',\n",
       "  '24/03/2015',\n",
       "  'SALE',\n",
       "  '115000,00',\n",
       "  '6000',\n",
       "  'NICE',\n",
       "  '2',\n",
       "  'APARTMENT',\n",
       "  '50',\n",
       "  '2',\n",
       "  ''],\n",
       " ['NICE',\n",
       "  '03/04/2015',\n",
       "  'SALE',\n",
       "  '172500,00',\n",
       "  '6100',\n",
       "  'NICE',\n",
       "  '2',\n",
       "  'APARTMENT',\n",
       "  '63',\n",
       "  '4',\n",
       "  ''],\n",
       " ['NICE',\n",
       "  '09/04/2015',\n",
       "  'SALE',\n",
       "  '360000,00',\n",
       "  '6200',\n",
       "  'NICE',\n",
       "  '0',\n",
       "  'HOUSE',\n",
       "  '109',\n",
       "  '5',\n",
       "  '502']]"
      ]
     },
     "execution_count": 16,
     "metadata": {},
     "output_type": "execute_result"
    }
   ],
   "source": [
    "rdd_realestate = rdd_realestate.filter(lambda tuple: tuple[9] != '')\\\n",
    "                                   .filter(lambda tuple: tuple[8] != '')\\\n",
    "                                   .filter(lambda tuple: tuple[4] != '')\\\n",
    "                                   .filter(lambda tuple: tuple[3] != '')\n",
    "\n",
    "rdd_realestate.take(10)"
   ]
  },
  {
   "cell_type": "code",
   "execution_count": 17,
   "metadata": {},
   "outputs": [
    {
     "data": {
      "text/plain": [
       "478005"
      ]
     },
     "execution_count": 17,
     "metadata": {},
     "output_type": "execute_result"
    }
   ],
   "source": [
    "rdd_realestate.count()"
   ]
  },
  {
   "cell_type": "markdown",
   "metadata": {},
   "source": [
    "#### <span style=\"color:midnightblue\"> Replace null values for land area with a default value\n",
    "We replace null values with 0 "
   ]
  },
  {
   "cell_type": "code",
   "execution_count": 18,
   "metadata": {},
   "outputs": [
    {
     "data": {
      "text/plain": [
       "[['NICE',\n",
       "  '26/03/2015',\n",
       "  'SALE',\n",
       "  '102000,00',\n",
       "  '6000',\n",
       "  'NICE',\n",
       "  '1',\n",
       "  'APARTMENT',\n",
       "  '29',\n",
       "  '2',\n",
       "  0],\n",
       " ['NICE',\n",
       "  '10/04/2015',\n",
       "  'SALE',\n",
       "  '239000,00',\n",
       "  '6200',\n",
       "  'NICE',\n",
       "  '1',\n",
       "  'APARTMENT',\n",
       "  '51',\n",
       "  '2',\n",
       "  0],\n",
       " ['NICE',\n",
       "  '23/03/2015',\n",
       "  'SALE',\n",
       "  '410000,00',\n",
       "  '6200',\n",
       "  'NICE',\n",
       "  '2',\n",
       "  'APARTMENT',\n",
       "  '60',\n",
       "  '3',\n",
       "  0],\n",
       " ['NICE',\n",
       "  '08/04/2015',\n",
       "  'SALE',\n",
       "  '215000,00',\n",
       "  '6200',\n",
       "  'NICE',\n",
       "  '1',\n",
       "  'APARTMENT',\n",
       "  '67',\n",
       "  '3',\n",
       "  0],\n",
       " ['NICE',\n",
       "  '20/03/2015',\n",
       "  'SALE',\n",
       "  '625000,00',\n",
       "  '6200',\n",
       "  'NICE',\n",
       "  '0',\n",
       "  'HOUSE',\n",
       "  '160',\n",
       "  '5',\n",
       "  '500'],\n",
       " ['NICE',\n",
       "  '20/03/2015',\n",
       "  'SALE',\n",
       "  '625000,00',\n",
       "  '6200',\n",
       "  'NICE',\n",
       "  '0',\n",
       "  'HOUSE',\n",
       "  '160',\n",
       "  '5',\n",
       "  '1267'],\n",
       " ['NICE',\n",
       "  '02/04/2015',\n",
       "  'SALE',\n",
       "  '130000,00',\n",
       "  '6200',\n",
       "  'NICE',\n",
       "  '1',\n",
       "  'APARTMENT',\n",
       "  '31',\n",
       "  '1',\n",
       "  0],\n",
       " ['NICE',\n",
       "  '24/03/2015',\n",
       "  'SALE',\n",
       "  '115000,00',\n",
       "  '6000',\n",
       "  'NICE',\n",
       "  '2',\n",
       "  'APARTMENT',\n",
       "  '50',\n",
       "  '2',\n",
       "  0],\n",
       " ['NICE',\n",
       "  '03/04/2015',\n",
       "  'SALE',\n",
       "  '172500,00',\n",
       "  '6100',\n",
       "  'NICE',\n",
       "  '2',\n",
       "  'APARTMENT',\n",
       "  '63',\n",
       "  '4',\n",
       "  0],\n",
       " ['NICE',\n",
       "  '09/04/2015',\n",
       "  'SALE',\n",
       "  '360000,00',\n",
       "  '6200',\n",
       "  'NICE',\n",
       "  '0',\n",
       "  'HOUSE',\n",
       "  '109',\n",
       "  '5',\n",
       "  '502']]"
      ]
     },
     "execution_count": 18,
     "metadata": {},
     "output_type": "execute_result"
    }
   ],
   "source": [
    "def replacebyzero(zero):\n",
    "    if zero[10] != '': \n",
    "        return zero\n",
    "    else: \n",
    "        zero[10] = 0\n",
    "        return zero\n",
    "\n",
    "rdd_realestate = rdd_realestate.map(lambda zero: replacebyzero(zero))\n",
    "\n",
    "rdd_realestate.take(10)\n"
   ]
  },
  {
   "cell_type": "code",
   "execution_count": 19,
   "metadata": {},
   "outputs": [
    {
     "data": {
      "text/plain": [
       "478005"
      ]
     },
     "execution_count": 19,
     "metadata": {},
     "output_type": "execute_result"
    }
   ],
   "source": [
    "rdd_realestate.count()"
   ]
  },
  {
   "cell_type": "markdown",
   "metadata": {},
   "source": [
    "#### <span style=\"color:midnightblue\"> Fix the data type \n",
    "\n",
    "We change the type of the numerical fields such as Price (3), Number of Lots (6), Living Area (8), number of rooms (9) and Land Area (10).\n"
   ]
  },
  {
   "cell_type": "code",
   "execution_count": 20,
   "metadata": {},
   "outputs": [
    {
     "data": {
      "text/plain": [
       "[['NICE',\n",
       "  '26/03/2015',\n",
       "  'SALE',\n",
       "  102000,\n",
       "  '6000',\n",
       "  'NICE',\n",
       "  1,\n",
       "  'APARTMENT',\n",
       "  29.0,\n",
       "  2,\n",
       "  0.0],\n",
       " ['NICE',\n",
       "  '10/04/2015',\n",
       "  'SALE',\n",
       "  239000,\n",
       "  '6200',\n",
       "  'NICE',\n",
       "  1,\n",
       "  'APARTMENT',\n",
       "  51.0,\n",
       "  2,\n",
       "  0.0],\n",
       " ['NICE',\n",
       "  '23/03/2015',\n",
       "  'SALE',\n",
       "  410000,\n",
       "  '6200',\n",
       "  'NICE',\n",
       "  2,\n",
       "  'APARTMENT',\n",
       "  60.0,\n",
       "  3,\n",
       "  0.0],\n",
       " ['NICE',\n",
       "  '08/04/2015',\n",
       "  'SALE',\n",
       "  215000,\n",
       "  '6200',\n",
       "  'NICE',\n",
       "  1,\n",
       "  'APARTMENT',\n",
       "  67.0,\n",
       "  3,\n",
       "  0.0],\n",
       " ['NICE',\n",
       "  '20/03/2015',\n",
       "  'SALE',\n",
       "  625000,\n",
       "  '6200',\n",
       "  'NICE',\n",
       "  0,\n",
       "  'HOUSE',\n",
       "  160.0,\n",
       "  5,\n",
       "  500.0],\n",
       " ['NICE',\n",
       "  '20/03/2015',\n",
       "  'SALE',\n",
       "  625000,\n",
       "  '6200',\n",
       "  'NICE',\n",
       "  0,\n",
       "  'HOUSE',\n",
       "  160.0,\n",
       "  5,\n",
       "  1267.0],\n",
       " ['NICE',\n",
       "  '02/04/2015',\n",
       "  'SALE',\n",
       "  130000,\n",
       "  '6200',\n",
       "  'NICE',\n",
       "  1,\n",
       "  'APARTMENT',\n",
       "  31.0,\n",
       "  1,\n",
       "  0.0],\n",
       " ['NICE',\n",
       "  '24/03/2015',\n",
       "  'SALE',\n",
       "  115000,\n",
       "  '6000',\n",
       "  'NICE',\n",
       "  2,\n",
       "  'APARTMENT',\n",
       "  50.0,\n",
       "  2,\n",
       "  0.0],\n",
       " ['NICE',\n",
       "  '03/04/2015',\n",
       "  'SALE',\n",
       "  172500,\n",
       "  '6100',\n",
       "  'NICE',\n",
       "  2,\n",
       "  'APARTMENT',\n",
       "  63.0,\n",
       "  4,\n",
       "  0.0],\n",
       " ['NICE',\n",
       "  '09/04/2015',\n",
       "  'SALE',\n",
       "  360000,\n",
       "  '6200',\n",
       "  'NICE',\n",
       "  0,\n",
       "  'HOUSE',\n",
       "  109.0,\n",
       "  5,\n",
       "  502.0]]"
      ]
     },
     "execution_count": 20,
     "metadata": {},
     "output_type": "execute_result"
    }
   ],
   "source": [
    "def FixType(field):\n",
    "        field[3] = field[3].split(',')[0]\n",
    "        field[3] = int(field[3])\n",
    "        field[6] = int(field[6])\n",
    "        field[8] = float(field[8])\n",
    "        field[9] = int(field[9])\n",
    "        field[10] = float(field[10])\n",
    "        \n",
    "        return field\n",
    "\n",
    "rdd_realestate = rdd_realestate.map(lambda field: FixType(field))\n",
    "\n",
    "rdd_realestate.take(10)"
   ]
  },
  {
   "cell_type": "code",
   "execution_count": 21,
   "metadata": {},
   "outputs": [
    {
     "data": {
      "text/plain": [
       "478005"
      ]
     },
     "execution_count": 21,
     "metadata": {},
     "output_type": "execute_result"
    }
   ],
   "source": [
    "rdd_realestate.count()\n"
   ]
  },
  {
   "cell_type": "code",
   "execution_count": 22,
   "metadata": {},
   "outputs": [],
   "source": [
    "rdd_clean_realestate = rdd_realestate"
   ]
  },
  {
   "cell_type": "code",
   "execution_count": 23,
   "metadata": {
    "scrolled": true
   },
   "outputs": [
    {
     "data": {
      "text/plain": [
       "[['NICE',\n",
       "  '26/03/2015',\n",
       "  'SALE',\n",
       "  102000,\n",
       "  '6000',\n",
       "  'NICE',\n",
       "  1,\n",
       "  'APARTMENT',\n",
       "  29.0,\n",
       "  2,\n",
       "  0.0]]"
      ]
     },
     "execution_count": 23,
     "metadata": {},
     "output_type": "execute_result"
    }
   ],
   "source": [
    "rdd_clean_realestate.take(1)"
   ]
  },
  {
   "cell_type": "markdown",
   "metadata": {},
   "source": [
    "#### <span style=\"color:midnightblue\"> Adding a new field\n",
    "\n",
    "We create a new field: Price per square meter"
   ]
  },
  {
   "cell_type": "code",
   "execution_count": 24,
   "metadata": {},
   "outputs": [],
   "source": [
    "def PriceM2(field):\n",
    "        field.append(int(field[3])/int(field[8]))\n",
    "        return field\n",
    "\n"
   ]
  },
  {
   "cell_type": "code",
   "execution_count": 25,
   "metadata": {},
   "outputs": [
    {
     "data": {
      "text/plain": [
       "[['NICE',\n",
       "  '26/03/2015',\n",
       "  'SALE',\n",
       "  102000,\n",
       "  '6000',\n",
       "  'NICE',\n",
       "  1,\n",
       "  'APARTMENT',\n",
       "  29.0,\n",
       "  2,\n",
       "  0.0,\n",
       "  3517.2413793103447],\n",
       " ['NICE',\n",
       "  '10/04/2015',\n",
       "  'SALE',\n",
       "  239000,\n",
       "  '6200',\n",
       "  'NICE',\n",
       "  1,\n",
       "  'APARTMENT',\n",
       "  51.0,\n",
       "  2,\n",
       "  0.0,\n",
       "  4686.274509803921],\n",
       " ['NICE',\n",
       "  '23/03/2015',\n",
       "  'SALE',\n",
       "  410000,\n",
       "  '6200',\n",
       "  'NICE',\n",
       "  2,\n",
       "  'APARTMENT',\n",
       "  60.0,\n",
       "  3,\n",
       "  0.0,\n",
       "  6833.333333333333],\n",
       " ['NICE',\n",
       "  '08/04/2015',\n",
       "  'SALE',\n",
       "  215000,\n",
       "  '6200',\n",
       "  'NICE',\n",
       "  1,\n",
       "  'APARTMENT',\n",
       "  67.0,\n",
       "  3,\n",
       "  0.0,\n",
       "  3208.955223880597],\n",
       " ['NICE',\n",
       "  '20/03/2015',\n",
       "  'SALE',\n",
       "  625000,\n",
       "  '6200',\n",
       "  'NICE',\n",
       "  0,\n",
       "  'HOUSE',\n",
       "  160.0,\n",
       "  5,\n",
       "  500.0,\n",
       "  3906.25],\n",
       " ['NICE',\n",
       "  '20/03/2015',\n",
       "  'SALE',\n",
       "  625000,\n",
       "  '6200',\n",
       "  'NICE',\n",
       "  0,\n",
       "  'HOUSE',\n",
       "  160.0,\n",
       "  5,\n",
       "  1267.0,\n",
       "  3906.25],\n",
       " ['NICE',\n",
       "  '02/04/2015',\n",
       "  'SALE',\n",
       "  130000,\n",
       "  '6200',\n",
       "  'NICE',\n",
       "  1,\n",
       "  'APARTMENT',\n",
       "  31.0,\n",
       "  1,\n",
       "  0.0,\n",
       "  4193.548387096775],\n",
       " ['NICE',\n",
       "  '24/03/2015',\n",
       "  'SALE',\n",
       "  115000,\n",
       "  '6000',\n",
       "  'NICE',\n",
       "  2,\n",
       "  'APARTMENT',\n",
       "  50.0,\n",
       "  2,\n",
       "  0.0,\n",
       "  2300.0],\n",
       " ['NICE',\n",
       "  '03/04/2015',\n",
       "  'SALE',\n",
       "  172500,\n",
       "  '6100',\n",
       "  'NICE',\n",
       "  2,\n",
       "  'APARTMENT',\n",
       "  63.0,\n",
       "  4,\n",
       "  0.0,\n",
       "  2738.095238095238],\n",
       " ['NICE',\n",
       "  '09/04/2015',\n",
       "  'SALE',\n",
       "  360000,\n",
       "  '6200',\n",
       "  'NICE',\n",
       "  0,\n",
       "  'HOUSE',\n",
       "  109.0,\n",
       "  5,\n",
       "  502.0,\n",
       "  3302.7522935779816]]"
      ]
     },
     "execution_count": 25,
     "metadata": {},
     "output_type": "execute_result"
    }
   ],
   "source": [
    "rdd_clean_realestate = rdd_clean_realestate.map(lambda field: PriceM2(field))\n",
    "\n",
    "rdd_clean_realestate.take(10)"
   ]
  },
  {
   "cell_type": "code",
   "execution_count": 26,
   "metadata": {},
   "outputs": [
    {
     "data": {
      "text/plain": [
       "478005"
      ]
     },
     "execution_count": 26,
     "metadata": {},
     "output_type": "execute_result"
    }
   ],
   "source": [
    "rdd_clean_realestate.count()"
   ]
  },
  {
   "cell_type": "markdown",
   "metadata": {},
   "source": [
    "## <span style=\"color:midnightblue\"> Data Exploration \n",
    "\n",
    "Here the aim is to better understand the dataset. To do so, we will use SQL queries."
   ]
  },
  {
   "cell_type": "code",
   "execution_count": 27,
   "metadata": {},
   "outputs": [],
   "source": [
    "import pyspark\n",
    "\n",
    "spark = pyspark.sql.SparkSession.builder.appName(\"Spark-Real-Estate-DF\").getOrCreate()"
   ]
  },
  {
   "cell_type": "markdown",
   "metadata": {},
   "source": [
    "#### <span style=\"color:midnightblue\"> Create DataFrame"
   ]
  },
  {
   "cell_type": "code",
   "execution_count": 28,
   "metadata": {
    "scrolled": true
   },
   "outputs": [
    {
     "name": "stdout",
     "output_type": "stream",
     "text": [
      "+----+----------+---------+---------+-----------+-------+--------------+----------+-----------+---------------+---------+\n",
      "|City| Sale Date|Sale Type|    Price|Postal Code|Commune|Number of lots|Local Type|Living Area|Number of rooms|Land Area|\n",
      "+----+----------+---------+---------+-----------+-------+--------------+----------+-----------+---------------+---------+\n",
      "|NICE|26/03/2015|     SALE|102000,00|       6000|   NICE|             1| APARTMENT|         29|              2|     null|\n",
      "|NICE|07/04/2015|     SALE| 32000,00|       6000|   NICE|             1|DEPENDENCY|          0|              0|     null|\n",
      "|NICE|10/04/2015|     SALE|239000,00|       6200|   NICE|             1| APARTMENT|         51|              2|     null|\n",
      "|NICE|10/04/2015|     SALE|239000,00|       6200|   NICE|             1|DEPENDENCY|          0|              0|     null|\n",
      "|NICE|23/03/2015|     SALE| 30000,00|       6000|   NICE|             1|DEPENDENCY|          0|              0|     null|\n",
      "+----+----------+---------+---------+-----------+-------+--------------+----------+-----------+---------------+---------+\n",
      "only showing top 5 rows\n",
      "\n"
     ]
    }
   ],
   "source": [
    "realestate_df = spark.read.csv('real_estate_transactions.csv', header=True, sep=';')\n",
    "\n",
    "realestate_df.show(5)"
   ]
  },
  {
   "cell_type": "code",
   "execution_count": 29,
   "metadata": {
    "scrolled": true
   },
   "outputs": [
    {
     "name": "stdout",
     "output_type": "stream",
     "text": [
      "+----+----------+---------+------+-----------+-------+--------------+----------+-----------+---------------+---------+------------------+\n",
      "|City| Sale Date|Sale type| Price|Postal Code|Commune|Number of lots|Local Type|Living_Area|Number of rooms|Land Area|           PriceM2|\n",
      "+----+----------+---------+------+-----------+-------+--------------+----------+-----------+---------------+---------+------------------+\n",
      "|NICE|26/03/2015|     SALE|102000|       6000|   NICE|             1| APARTMENT|       29.0|              2|      0.0|3517.2413793103447|\n",
      "|NICE|10/04/2015|     SALE|239000|       6200|   NICE|             1| APARTMENT|       51.0|              2|      0.0| 4686.274509803921|\n",
      "|NICE|23/03/2015|     SALE|410000|       6200|   NICE|             2| APARTMENT|       60.0|              3|      0.0| 6833.333333333333|\n",
      "|NICE|08/04/2015|     SALE|215000|       6200|   NICE|             1| APARTMENT|       67.0|              3|      0.0| 3208.955223880597|\n",
      "|NICE|20/03/2015|     SALE|625000|       6200|   NICE|             0|     HOUSE|      160.0|              5|    500.0|           3906.25|\n",
      "+----+----------+---------+------+-----------+-------+--------------+----------+-----------+---------------+---------+------------------+\n",
      "only showing top 5 rows\n",
      "\n"
     ]
    }
   ],
   "source": [
    "transaction_df = rdd_clean_realestate.toDF(['City','Sale Date','Sale type','Price', 'Postal Code', 'Commune', 'Number of lots', 'Local Type', 'Living_Area', 'Number of rooms', 'Land Area', 'PriceM2'])\n",
    "\n",
    "transaction_df.show(5)"
   ]
  },
  {
   "cell_type": "code",
   "execution_count": 30,
   "metadata": {},
   "outputs": [],
   "source": [
    "transaction_df.createOrReplaceTempView('transaction')"
   ]
  },
  {
   "cell_type": "markdown",
   "metadata": {},
   "source": [
    "#### <span style=\"color:midnightblue\"> Mean(), Max() and Min() of the prices and the prices per square meter per city. "
   ]
  },
  {
   "cell_type": "code",
   "execution_count": 31,
   "metadata": {},
   "outputs": [
    {
     "name": "stdout",
     "output_type": "stream",
     "text": [
      "+-----------+------------------+------------------+\n",
      "|       City|        avg(Price)|      avg(PriceM2)|\n",
      "+-----------+------------------+------------------+\n",
      "|      PARIS|2820970.7549767476| 80091.18801627915|\n",
      "|  MARSEILLE| 985149.0437140847|22155.817715384645|\n",
      "|       LYON|   796163.74223877|13104.847848806448|\n",
      "|MONTPELLIER| 663993.0523888363| 22793.52100848133|\n",
      "|   TOULOUSE| 662720.5636748436|13416.682287463054|\n",
      "|     NANTES| 642943.3376320696| 11888.56279742981|\n",
      "|   BORDEAUX| 607578.0414770178| 11257.58503614878|\n",
      "|       NICE|350616.91600085224| 6583.005407132812|\n",
      "|      LILLE| 308442.1145959458| 7539.797814536508|\n",
      "+-----------+------------------+------------------+\n",
      "\n",
      "+-----------+----------+------------------+\n",
      "|       City|max(Price)|      max(PriceM2)|\n",
      "+-----------+----------+------------------+\n",
      "|      PARIS|1249132030|      1.24913203E8|\n",
      "|  MARSEILLE| 378000000|         5320000.0|\n",
      "|MONTPELLIER| 174814352| 4600377.684210527|\n",
      "|       LYON|  77600000| 4564705.882352941|\n",
      "|     NANTES|  55244924| 2124804.769230769|\n",
      "|   TOULOUSE|  33427218|        1392800.75|\n",
      "|       NICE|  23680000|438518.51851851854|\n",
      "|      LILLE|  20000000| 689655.1724137932|\n",
      "|   BORDEAUX|  18429000| 552631.5789473684|\n",
      "+-----------+----------+------------------+\n",
      "\n",
      "+-----------+----------+--------------------+\n",
      "|       City|min(Price)|        min(PriceM2)|\n",
      "+-----------+----------+--------------------+\n",
      "|MONTPELLIER|         1|0.007142857142857143|\n",
      "|     NANTES|         1| 0.01020408163265306|\n",
      "|   BORDEAUX|         1|0.004651162790697674|\n",
      "|       NICE|         0|                 0.0|\n",
      "|      LILLE|         0|                 0.0|\n",
      "|      PARIS|         0|                 0.0|\n",
      "|   TOULOUSE|         0|                 0.0|\n",
      "|       LYON|         0|                 0.0|\n",
      "|  MARSEILLE|         0|                 0.0|\n",
      "+-----------+----------+--------------------+\n",
      "\n"
     ]
    }
   ],
   "source": [
    "transaction_df_AVG = spark.sql(\"SELECT City, AVG(Price), AVG(PriceM2) FROM transaction GROUP BY City ORDER BY AVG(Price) desc \")\n",
    "transaction_df_AVG.show()\n",
    "\n",
    "transaction_df_MAX = spark.sql(\"SELECT City, MAX(Price), MAX(PriceM2) FROM transaction GROUP BY City ORDER BY MAX(Price) desc \")\n",
    "transaction_df_MAX.show()\n",
    "\n",
    "transaction_df_MIN = spark.sql(\"SELECT City, MIN(Price), MIN(PriceM2) FROM transaction GROUP BY City ORDER BY MIN(Price) desc \")\n",
    "transaction_df_MIN.show()"
   ]
  },
  {
   "cell_type": "markdown",
   "metadata": {},
   "source": [
    "## <span style=\"color:midnightblue\"> Finding 1 : Price per square meter per City"
   ]
  },
  {
   "cell_type": "code",
   "execution_count": 32,
   "metadata": {},
   "outputs": [
    {
     "name": "stdout",
     "output_type": "stream",
     "text": [
      "+-----------+------------------+\n",
      "|       City|           priceM2|\n",
      "+-----------+------------------+\n",
      "|      PARIS|13652.219217444082|\n",
      "|       LYON| 7741.109260451366|\n",
      "|   BORDEAUX| 6661.304091902846|\n",
      "|   TOULOUSE| 6630.711393504149|\n",
      "|MONTPELLIER| 6482.784445124738|\n",
      "|  MARSEILLE| 5975.487570248354|\n",
      "|       NICE| 5948.597607560817|\n",
      "|      LILLE| 5275.205853387303|\n",
      "|     NANTES| 5165.936728486331|\n",
      "+-----------+------------------+\n",
      "\n"
     ]
    }
   ],
   "source": [
    "priceM2_df =  spark.sql(\" SELECT City, avg(Price)/avg(Living_Area) as priceM2 \\\n",
    "                          FROM transaction \\\n",
    "                          WHERE Price < 10000000 AND Price> 20000 \\\n",
    "                          GROUP BY City \\\n",
    "                          ORDER BY priceM2 desc \")\n",
    "\n",
    "priceM2_df.show(10)"
   ]
  },
  {
   "cell_type": "markdown",
   "metadata": {},
   "source": [
    "The table shows that Paris seems to be the more expensive city with an average of 13 652 € per square meter.\n",
    "We choose to frame the price between 20 000€ and 10 000 000€ in order to exclude outliers."
   ]
  },
  {
   "cell_type": "code",
   "execution_count": 33,
   "metadata": {},
   "outputs": [],
   "source": [
    "PriceM2_pd= spark.sql(\" SELECT City, avg(Price)/avg(Living_Area) as priceM2 \\\n",
    "                          FROM transaction \\\n",
    "                          WHERE Price < 10000000 AND Price> 20000 \\\n",
    "                          GROUP BY City \\\n",
    "                          ORDER BY priceM2 desc \").toPandas()"
   ]
  },
  {
   "cell_type": "code",
   "execution_count": 34,
   "metadata": {},
   "outputs": [
    {
     "data": {
      "text/html": [
       "<div>\n",
       "<style scoped>\n",
       "    .dataframe tbody tr th:only-of-type {\n",
       "        vertical-align: middle;\n",
       "    }\n",
       "\n",
       "    .dataframe tbody tr th {\n",
       "        vertical-align: top;\n",
       "    }\n",
       "\n",
       "    .dataframe thead th {\n",
       "        text-align: right;\n",
       "    }\n",
       "</style>\n",
       "<table border=\"1\" class=\"dataframe\">\n",
       "  <thead>\n",
       "    <tr style=\"text-align: right;\">\n",
       "      <th></th>\n",
       "      <th>City</th>\n",
       "      <th>priceM2</th>\n",
       "    </tr>\n",
       "  </thead>\n",
       "  <tbody>\n",
       "    <tr>\n",
       "      <th>0</th>\n",
       "      <td>PARIS</td>\n",
       "      <td>13652.219217</td>\n",
       "    </tr>\n",
       "    <tr>\n",
       "      <th>1</th>\n",
       "      <td>LYON</td>\n",
       "      <td>7741.109260</td>\n",
       "    </tr>\n",
       "    <tr>\n",
       "      <th>2</th>\n",
       "      <td>BORDEAUX</td>\n",
       "      <td>6661.304092</td>\n",
       "    </tr>\n",
       "    <tr>\n",
       "      <th>3</th>\n",
       "      <td>TOULOUSE</td>\n",
       "      <td>6630.711394</td>\n",
       "    </tr>\n",
       "    <tr>\n",
       "      <th>4</th>\n",
       "      <td>MONTPELLIER</td>\n",
       "      <td>6482.784445</td>\n",
       "    </tr>\n",
       "    <tr>\n",
       "      <th>5</th>\n",
       "      <td>MARSEILLE</td>\n",
       "      <td>5975.487570</td>\n",
       "    </tr>\n",
       "    <tr>\n",
       "      <th>6</th>\n",
       "      <td>NICE</td>\n",
       "      <td>5948.597608</td>\n",
       "    </tr>\n",
       "    <tr>\n",
       "      <th>7</th>\n",
       "      <td>LILLE</td>\n",
       "      <td>5275.205853</td>\n",
       "    </tr>\n",
       "    <tr>\n",
       "      <th>8</th>\n",
       "      <td>NANTES</td>\n",
       "      <td>5165.936728</td>\n",
       "    </tr>\n",
       "  </tbody>\n",
       "</table>\n",
       "</div>"
      ],
      "text/plain": [
       "          City       priceM2\n",
       "0        PARIS  13652.219217\n",
       "1         LYON   7741.109260\n",
       "2     BORDEAUX   6661.304092\n",
       "3     TOULOUSE   6630.711394\n",
       "4  MONTPELLIER   6482.784445\n",
       "5    MARSEILLE   5975.487570\n",
       "6         NICE   5948.597608\n",
       "7        LILLE   5275.205853\n",
       "8       NANTES   5165.936728"
      ]
     },
     "execution_count": 34,
     "metadata": {},
     "output_type": "execute_result"
    }
   ],
   "source": [
    "PriceM2_pd"
   ]
  },
  {
   "cell_type": "code",
   "execution_count": 35,
   "metadata": {},
   "outputs": [
    {
     "data": {
      "text/plain": [
       "Text(0.5, 1.0, 'Price per M² per City')"
      ]
     },
     "execution_count": 35,
     "metadata": {},
     "output_type": "execute_result"
    },
    {
     "data": {
      "image/png": "[encoded data removed]",
      "text/plain": [
       "<Figure size 432x288 with 1 Axes>"
      ]
     },
     "metadata": {
      "needs_background": "light"
     },
     "output_type": "display_data"
    }
   ],
   "source": [
    "barplot = PriceM2_pd.plot.bar(x='City', y='priceM2')\n",
    "plt.title('Price per M² per City')"
   ]
  },
  {
   "cell_type": "markdown",
   "metadata": {},
   "source": [
    "#### <span style=\"color:midnightblue\"> Finding 1 Conclusion : \n",
    "We can notice a clear distinction with prices in Paris and maybe a second group including Lyon, Bordeaux and Toulouse. This statement will help us later to build the cluster analysis. \n"
   ]
  },
  {
   "cell_type": "markdown",
   "metadata": {},
   "source": [
    "### <span style=\"color:midnightblue\"> Studying the repartition of the prices values"
   ]
  },
  {
   "cell_type": "code",
   "execution_count": 36,
   "metadata": {},
   "outputs": [
    {
     "name": "stdout",
     "output_type": "stream",
     "text": [
      "+----+------------------+\n",
      "|CITY|           PriceM2|\n",
      "+----+------------------+\n",
      "|NICE|3517.2413793103447|\n",
      "|NICE| 4686.274509803921|\n",
      "|NICE| 6833.333333333333|\n",
      "|NICE| 3208.955223880597|\n",
      "|NICE|           3906.25|\n",
      "|NICE|           3906.25|\n",
      "|NICE| 4193.548387096775|\n",
      "|NICE|            2300.0|\n",
      "|NICE| 2738.095238095238|\n",
      "|NICE|3302.7522935779816|\n",
      "|NICE|               0.0|\n",
      "|NICE|3772.7272727272725|\n",
      "|NICE| 3054.794520547945|\n",
      "|NICE| 4909.090909090909|\n",
      "|NICE|1893.3333333333333|\n",
      "|NICE| 3723.684210526316|\n",
      "|NICE| 2337.837837837838|\n",
      "|NICE|            5280.0|\n",
      "|NICE|            4500.0|\n",
      "|NICE| 3190.253164556962|\n",
      "+----+------------------+\n",
      "only showing top 20 rows\n",
      "\n"
     ]
    }
   ],
   "source": [
    "spark.sql(\"SELECT CITY, PriceM2 FROM transaction\").show()"
   ]
  },
  {
   "cell_type": "code",
   "execution_count": 37,
   "metadata": {},
   "outputs": [
    {
     "data": {
      "text/html": [
       "<div>\n",
       "<style scoped>\n",
       "    .dataframe tbody tr th:only-of-type {\n",
       "        vertical-align: middle;\n",
       "    }\n",
       "\n",
       "    .dataframe tbody tr th {\n",
       "        vertical-align: top;\n",
       "    }\n",
       "\n",
       "    .dataframe thead th {\n",
       "        text-align: right;\n",
       "    }\n",
       "</style>\n",
       "<table border=\"1\" class=\"dataframe\">\n",
       "  <thead>\n",
       "    <tr style=\"text-align: right;\">\n",
       "      <th></th>\n",
       "      <th>CITY</th>\n",
       "      <th>PriceM2</th>\n",
       "    </tr>\n",
       "  </thead>\n",
       "  <tbody>\n",
       "    <tr>\n",
       "      <th>0</th>\n",
       "      <td>NICE</td>\n",
       "      <td>3517.241379</td>\n",
       "    </tr>\n",
       "    <tr>\n",
       "      <th>1</th>\n",
       "      <td>NICE</td>\n",
       "      <td>4686.274510</td>\n",
       "    </tr>\n",
       "    <tr>\n",
       "      <th>2</th>\n",
       "      <td>NICE</td>\n",
       "      <td>6833.333333</td>\n",
       "    </tr>\n",
       "    <tr>\n",
       "      <th>3</th>\n",
       "      <td>NICE</td>\n",
       "      <td>3208.955224</td>\n",
       "    </tr>\n",
       "    <tr>\n",
       "      <th>4</th>\n",
       "      <td>NICE</td>\n",
       "      <td>3906.250000</td>\n",
       "    </tr>\n",
       "    <tr>\n",
       "      <th>...</th>\n",
       "      <td>...</td>\n",
       "      <td>...</td>\n",
       "    </tr>\n",
       "    <tr>\n",
       "      <th>461069</th>\n",
       "      <td>PARIS</td>\n",
       "      <td>8174.603175</td>\n",
       "    </tr>\n",
       "    <tr>\n",
       "      <th>461070</th>\n",
       "      <td>PARIS</td>\n",
       "      <td>8559.322034</td>\n",
       "    </tr>\n",
       "    <tr>\n",
       "      <th>461071</th>\n",
       "      <td>PARIS</td>\n",
       "      <td>8345.679012</td>\n",
       "    </tr>\n",
       "    <tr>\n",
       "      <th>461072</th>\n",
       "      <td>PARIS</td>\n",
       "      <td>14689.075630</td>\n",
       "    </tr>\n",
       "    <tr>\n",
       "      <th>461073</th>\n",
       "      <td>PARIS</td>\n",
       "      <td>8684.210526</td>\n",
       "    </tr>\n",
       "  </tbody>\n",
       "</table>\n",
       "<p>461074 rows × 2 columns</p>\n",
       "</div>"
      ],
      "text/plain": [
       "         CITY       PriceM2\n",
       "0        NICE   3517.241379\n",
       "1        NICE   4686.274510\n",
       "2        NICE   6833.333333\n",
       "3        NICE   3208.955224\n",
       "4        NICE   3906.250000\n",
       "...       ...           ...\n",
       "461069  PARIS   8174.603175\n",
       "461070  PARIS   8559.322034\n",
       "461071  PARIS   8345.679012\n",
       "461072  PARIS  14689.075630\n",
       "461073  PARIS   8684.210526\n",
       "\n",
       "[461074 rows x 2 columns]"
      ]
     },
     "execution_count": 37,
     "metadata": {},
     "output_type": "execute_result"
    }
   ],
   "source": [
    "boxplt = spark.sql(\"SELECT CITY, PriceM2 FROM transaction WHERE PriceM2 < 100000 AND PriceM2> 0  \").toPandas()\n",
    "boxplt\n"
   ]
  },
  {
   "cell_type": "code",
   "execution_count": 38,
   "metadata": {},
   "outputs": [
    {
     "data": {
      "text/plain": [
       "Text(0.5, 1.0, 'Boxplot: City and Price per m²')"
      ]
     },
     "execution_count": 38,
     "metadata": {},
     "output_type": "execute_result"
    },
    {
     "data": {
      "image/png": "[encoded data removed]",
      "text/plain": [
       "<Figure size 1440x1440 with 1 Axes>"
      ]
     },
     "metadata": {
      "needs_background": "light"
     },
     "output_type": "display_data"
    }
   ],
   "source": [
    "boxplt.boxplot(column='PriceM2', by='CITY', figsize=(20, 20))\n",
    "plt.title('Boxplot: City and Price per m²')"
   ]
  },
  {
   "cell_type": "markdown",
   "metadata": {},
   "source": [
    "On the boxplot above, even by filtering the price per m² under 100 000€ , the values are too much scattered. \n",
    "Thus, on the next step, we need to add more filters and personalize the filtering by city."
   ]
  },
  {
   "cell_type": "markdown",
   "metadata": {},
   "source": [
    "### <span style=\"color:midnightblue\"> Search for more outliers : Filtering the prices\n"
   ]
  },
  {
   "cell_type": "markdown",
   "metadata": {},
   "source": [
    "#### <span style=\"color:midnightblue\"> Price per Square Meter Filtering\n",
    "\n",
    "The price per M² is now the field 11. \n",
    "The range have been determined by analysing the explorative data (Avg, max, min per m²) done on the SQL queries above and the scatterplot, 2 lines before. "
   ]
  },
  {
   "cell_type": "code",
   "execution_count": 39,
   "metadata": {},
   "outputs": [],
   "source": [
    "def filterPricePerM2PerCity(field):\n",
    "    if field[0] == 'PARIS' and 1700 <= field[11] <= 16500:\n",
    "        return field \n",
    "    elif field[0] == 'LYON' and 1600 <= field[11] <= 16000:\n",
    "        return field \n",
    "    elif field[0] == 'BORDEAUX' and 1300 <= field[11] <= 15000:\n",
    "        return field \n",
    "    elif field[0] == 'TOULOUSE' and 1100 <= field[11] <= 14000:\n",
    "        return field\n",
    "    elif field[0] == 'MONTPELLIER' and 1000 <= field[11] <= 13000:\n",
    "        return field\n",
    "    elif field[0] == 'MARSEILLE' and 1300 <= field[11] <= 12000:\n",
    "        return field \n",
    "    elif field[0] == 'NICE' and 1300 <= field[11] <= 12000:\n",
    "        return field\n",
    "    elif field[0] == 'LILLE' and 1100 <= field[11] <= 10000:\n",
    "        return field\n",
    "    elif field[0] == 'NANTES' and 1100 <= field[11] <= 10000: \n",
    "        return field\n"
   ]
  },
  {
   "cell_type": "code",
   "execution_count": 40,
   "metadata": {
    "scrolled": true
   },
   "outputs": [
    {
     "data": {
      "text/plain": [
       "[['NICE',\n",
       "  '26/03/2015',\n",
       "  'SALE',\n",
       "  102000,\n",
       "  '6000',\n",
       "  'NICE',\n",
       "  1,\n",
       "  'APARTMENT',\n",
       "  29.0,\n",
       "  2,\n",
       "  0.0,\n",
       "  3517.2413793103447],\n",
       " ['NICE',\n",
       "  '10/04/2015',\n",
       "  'SALE',\n",
       "  239000,\n",
       "  '6200',\n",
       "  'NICE',\n",
       "  1,\n",
       "  'APARTMENT',\n",
       "  51.0,\n",
       "  2,\n",
       "  0.0,\n",
       "  4686.274509803921],\n",
       " ['NICE',\n",
       "  '23/03/2015',\n",
       "  'SALE',\n",
       "  410000,\n",
       "  '6200',\n",
       "  'NICE',\n",
       "  2,\n",
       "  'APARTMENT',\n",
       "  60.0,\n",
       "  3,\n",
       "  0.0,\n",
       "  6833.333333333333],\n",
       " ['NICE',\n",
       "  '08/04/2015',\n",
       "  'SALE',\n",
       "  215000,\n",
       "  '6200',\n",
       "  'NICE',\n",
       "  1,\n",
       "  'APARTMENT',\n",
       "  67.0,\n",
       "  3,\n",
       "  0.0,\n",
       "  3208.955223880597],\n",
       " ['NICE',\n",
       "  '20/03/2015',\n",
       "  'SALE',\n",
       "  625000,\n",
       "  '6200',\n",
       "  'NICE',\n",
       "  0,\n",
       "  'HOUSE',\n",
       "  160.0,\n",
       "  5,\n",
       "  500.0,\n",
       "  3906.25],\n",
       " ['NICE',\n",
       "  '20/03/2015',\n",
       "  'SALE',\n",
       "  625000,\n",
       "  '6200',\n",
       "  'NICE',\n",
       "  0,\n",
       "  'HOUSE',\n",
       "  160.0,\n",
       "  5,\n",
       "  1267.0,\n",
       "  3906.25],\n",
       " ['NICE',\n",
       "  '02/04/2015',\n",
       "  'SALE',\n",
       "  130000,\n",
       "  '6200',\n",
       "  'NICE',\n",
       "  1,\n",
       "  'APARTMENT',\n",
       "  31.0,\n",
       "  1,\n",
       "  0.0,\n",
       "  4193.548387096775],\n",
       " ['NICE',\n",
       "  '24/03/2015',\n",
       "  'SALE',\n",
       "  115000,\n",
       "  '6000',\n",
       "  'NICE',\n",
       "  2,\n",
       "  'APARTMENT',\n",
       "  50.0,\n",
       "  2,\n",
       "  0.0,\n",
       "  2300.0],\n",
       " ['NICE',\n",
       "  '03/04/2015',\n",
       "  'SALE',\n",
       "  172500,\n",
       "  '6100',\n",
       "  'NICE',\n",
       "  2,\n",
       "  'APARTMENT',\n",
       "  63.0,\n",
       "  4,\n",
       "  0.0,\n",
       "  2738.095238095238],\n",
       " ['NICE',\n",
       "  '09/04/2015',\n",
       "  'SALE',\n",
       "  360000,\n",
       "  '6200',\n",
       "  'NICE',\n",
       "  0,\n",
       "  'HOUSE',\n",
       "  109.0,\n",
       "  5,\n",
       "  502.0,\n",
       "  3302.7522935779816]]"
      ]
     },
     "execution_count": 40,
     "metadata": {},
     "output_type": "execute_result"
    }
   ],
   "source": [
    "rdd_clean_realestate = rdd_clean_realestate.map(lambda field : filterPricePerM2PerCity(field))\\\n",
    "                                      .filter(lambda field : field != None)\n",
    "\n",
    "rdd_clean_realestate.take(10)"
   ]
  },
  {
   "cell_type": "markdown",
   "metadata": {},
   "source": [
    "#### <span style=\"color:midnightblue\"> Prices filtering"
   ]
  },
  {
   "cell_type": "code",
   "execution_count": 41,
   "metadata": {},
   "outputs": [
    {
     "data": {
      "text/plain": [
       "409628"
      ]
     },
     "execution_count": 41,
     "metadata": {},
     "output_type": "execute_result"
    }
   ],
   "source": [
    "rdd_clean_realestate = rdd_clean_realestate.filter(lambda field : 20000 <= field[3] <= 10000000)\n",
    "rdd_clean_realestate.count()"
   ]
  },
  {
   "cell_type": "markdown",
   "metadata": {},
   "source": [
    "## <span style=\"color:midnightblue\"> Data visualization "
   ]
  },
  {
   "cell_type": "markdown",
   "metadata": {},
   "source": [
    "We convert the rdd rdd_clean_realestate to a dataframe : "
   ]
  },
  {
   "cell_type": "code",
   "execution_count": 44,
   "metadata": {
    "scrolled": true
   },
   "outputs": [
    {
     "name": "stdout",
     "output_type": "stream",
     "text": [
      "+----+----------+---------+------+-----------+-------+--------------+----------+-----------+---------------+---------+------------------+\n",
      "|City| Sale Date|Sale Type| Price|Postal Code|Commune|Number of lots|Local Type|Living Area|Number of rooms|Land Area|           PriceM2|\n",
      "+----+----------+---------+------+-----------+-------+--------------+----------+-----------+---------------+---------+------------------+\n",
      "|NICE|26/03/2015|     SALE|102000|       6000|   NICE|             1| APARTMENT|       29.0|              2|      0.0|3517.2413793103447|\n",
      "|NICE|10/04/2015|     SALE|239000|       6200|   NICE|             1| APARTMENT|       51.0|              2|      0.0| 4686.274509803921|\n",
      "|NICE|23/03/2015|     SALE|410000|       6200|   NICE|             2| APARTMENT|       60.0|              3|      0.0| 6833.333333333333|\n",
      "|NICE|08/04/2015|     SALE|215000|       6200|   NICE|             1| APARTMENT|       67.0|              3|      0.0| 3208.955223880597|\n",
      "|NICE|20/03/2015|     SALE|625000|       6200|   NICE|             0|     HOUSE|      160.0|              5|    500.0|           3906.25|\n",
      "|NICE|20/03/2015|     SALE|625000|       6200|   NICE|             0|     HOUSE|      160.0|              5|   1267.0|           3906.25|\n",
      "|NICE|02/04/2015|     SALE|130000|       6200|   NICE|             1| APARTMENT|       31.0|              1|      0.0| 4193.548387096775|\n",
      "|NICE|24/03/2015|     SALE|115000|       6000|   NICE|             2| APARTMENT|       50.0|              2|      0.0|            2300.0|\n",
      "|NICE|03/04/2015|     SALE|172500|       6100|   NICE|             2| APARTMENT|       63.0|              4|      0.0| 2738.095238095238|\n",
      "|NICE|09/04/2015|     SALE|360000|       6200|   NICE|             0|     HOUSE|      109.0|              5|    502.0|3302.7522935779816|\n",
      "+----+----------+---------+------+-----------+-------+--------------+----------+-----------+---------------+---------+------------------+\n",
      "only showing top 10 rows\n",
      "\n"
     ]
    }
   ],
   "source": [
    "realestate_df2 = rdd_clean_realestate.toDF(['City','Sale Date','Sale Type','Price','Postal Code','Commune','Number of lots','Local Type','Living Area','Number of rooms','Land Area','PriceM2'])\n",
    "realestate_df2.show(10)"
   ]
  },
  {
   "cell_type": "code",
   "execution_count": 45,
   "metadata": {},
   "outputs": [],
   "source": [
    "realestate_df2.createOrReplaceTempView('transaction2')"
   ]
  },
  {
   "cell_type": "code",
   "execution_count": 46,
   "metadata": {},
   "outputs": [
    {
     "name": "stdout",
     "output_type": "stream",
     "text": [
      "root\n",
      " |-- City: string (nullable = true)\n",
      " |-- Sale Date: string (nullable = true)\n",
      " |-- Sale Type: string (nullable = true)\n",
      " |-- Price: long (nullable = true)\n",
      " |-- Postal Code: string (nullable = true)\n",
      " |-- Commune: string (nullable = true)\n",
      " |-- Number of lots: long (nullable = true)\n",
      " |-- Local Type: string (nullable = true)\n",
      " |-- Living Area: double (nullable = true)\n",
      " |-- Number of rooms: long (nullable = true)\n",
      " |-- Land Area: double (nullable = true)\n",
      " |-- PriceM2: double (nullable = true)\n",
      "\n"
     ]
    }
   ],
   "source": [
    "realestate_df2.printSchema()"
   ]
  },
  {
   "cell_type": "markdown",
   "metadata": {},
   "source": [
    "### <span style=\"color:midnightblue\"> Repartition of the prices per city after all the modifications"
   ]
  },
  {
   "cell_type": "code",
   "execution_count": 47,
   "metadata": {},
   "outputs": [
    {
     "data": {
      "text/plain": [
       "<AxesSubplot:title={'center':'PriceM2'}, xlabel='CITY'>"
      ]
     },
     "execution_count": 47,
     "metadata": {},
     "output_type": "execute_result"
    },
    {
     "data": {
      "image/png": "[encoded data removed]",
      "text/plain": [
       "<Figure size 1440x1440 with 1 Axes>"
      ]
     },
     "metadata": {
      "needs_background": "light"
     },
     "output_type": "display_data"
    }
   ],
   "source": [
    "scaplot = spark.sql(\"SELECT CITY, PriceM2 FROM transaction2 \").toPandas()\n",
    "scaplot.boxplot(column='PriceM2', by='CITY', figsize=(20, 20))"
   ]
  },
  {
   "cell_type": "markdown",
   "metadata": {},
   "source": [
    "Thanks to the filtering price per m², the cleaning and the removing of outliers the values seems correctly distributed. "
   ]
  },
  {
   "cell_type": "markdown",
   "metadata": {},
   "source": [
    "We define 3 groups of price per city according to the SQL exploratory part and the tables that we calculated above showing the AVG(), MAX() and MIN()."
   ]
  },
  {
   "cell_type": "code",
   "execution_count": 48,
   "metadata": {},
   "outputs": [],
   "source": [
    "def cluster(field):\n",
    "    if field[0] == 'NANTES' or field[0] == 'MONTPELLIER' or field[0] == 'LILLE' or field[0] == 'MARSEILLE':\n",
    "        field.append(2); \n",
    "        return field\n",
    "    elif field[0] == 'LYON' or field[0] == 'TOULOUSE' or field[0]=='BORDEAUX' or field[0] == 'NICE' :\n",
    "        field.append(1); \n",
    "        return field\n",
    "    elif field[0] == 'PARIS': \n",
    "        field.append(0); \n",
    "        return field\n",
    "    \n",
    "\n",
    "rdd_clean_realestate = rdd_clean_realestate.map(lambda field : cluster(field))"
   ]
  },
  {
   "cell_type": "code",
   "execution_count": 49,
   "metadata": {},
   "outputs": [],
   "source": [
    "from pyspark.sql.types import *\n",
    "\n"
   ]
  },
  {
   "cell_type": "markdown",
   "metadata": {},
   "source": [
    "We use a schema in order to disable nullable values"
   ]
  },
  {
   "cell_type": "code",
   "execution_count": 50,
   "metadata": {},
   "outputs": [
    {
     "name": "stdout",
     "output_type": "stream",
     "text": [
      "+----+----------+---------+------+-----------+-------+--------------+----------+-----------+---------------+---------+------------------+-------+\n",
      "|City| Sale Date|Sale Type| Price|Postal Code|Commune|Number of lots|Local Type|Living Area|Number of rooms|Land Area|           PriceM2|Cluster|\n",
      "+----+----------+---------+------+-----------+-------+--------------+----------+-----------+---------------+---------+------------------+-------+\n",
      "|NICE|26/03/2015|     SALE|102000|       6000|   NICE|             1| APARTMENT|       29.0|              2|      0.0|3517.2413793103447|      1|\n",
      "|NICE|10/04/2015|     SALE|239000|       6200|   NICE|             1| APARTMENT|       51.0|              2|      0.0| 4686.274509803921|      1|\n",
      "|NICE|23/03/2015|     SALE|410000|       6200|   NICE|             2| APARTMENT|       60.0|              3|      0.0| 6833.333333333333|      1|\n",
      "|NICE|08/04/2015|     SALE|215000|       6200|   NICE|             1| APARTMENT|       67.0|              3|      0.0| 3208.955223880597|      1|\n",
      "|NICE|20/03/2015|     SALE|625000|       6200|   NICE|             0|     HOUSE|      160.0|              5|    500.0|           3906.25|      1|\n",
      "+----+----------+---------+------+-----------+-------+--------------+----------+-----------+---------------+---------+------------------+-------+\n",
      "only showing top 5 rows\n",
      "\n"
     ]
    }
   ],
   "source": [
    "re_schema =StructType ( [StructField(\"City\", StringType(), False),\n",
    "                           StructField(\"Sale Date\", StringType(), False),\n",
    "                           StructField(\"Sale Type\", StringType(), False),\n",
    "                           StructField(\"Price\", LongType(), False),\n",
    "                           StructField(\"Postal Code\", StringType(), False),\n",
    "                           StructField(\"Commune\", StringType(), False),\n",
    "                           StructField(\"Number of lots\", LongType(), False),\n",
    "                           StructField(\"Local Type\", StringType(), False),\n",
    "                           StructField(\"Living Area\", DoubleType(), False),\n",
    "                           StructField(\"Number of rooms\", LongType(), False),\n",
    "                           StructField(\"Land Area\", DoubleType(), False),\n",
    "                           StructField(\"PriceM2\", DoubleType(), False),\n",
    "                           StructField(\"Cluster\", IntegerType(), False),\n",
    "                        ] )\n",
    "\n",
    "realestate_df2 = spark.createDataFrame(rdd_clean_realestate, re_schema)\n",
    "\n",
    "realestate_df2.show(5)"
   ]
  },
  {
   "cell_type": "code",
   "execution_count": 51,
   "metadata": {},
   "outputs": [
    {
     "name": "stdout",
     "output_type": "stream",
     "text": [
      "root\n",
      " |-- City: string (nullable = false)\n",
      " |-- Sale Date: string (nullable = false)\n",
      " |-- Sale Type: string (nullable = false)\n",
      " |-- Price: long (nullable = false)\n",
      " |-- Postal Code: string (nullable = false)\n",
      " |-- Commune: string (nullable = false)\n",
      " |-- Number of lots: long (nullable = false)\n",
      " |-- Local Type: string (nullable = false)\n",
      " |-- Living Area: double (nullable = false)\n",
      " |-- Number of rooms: long (nullable = false)\n",
      " |-- Land Area: double (nullable = false)\n",
      " |-- PriceM2: double (nullable = false)\n",
      " |-- Cluster: integer (nullable = false)\n",
      "\n"
     ]
    }
   ],
   "source": [
    "realestate_df2.printSchema()"
   ]
  },
  {
   "cell_type": "code",
   "execution_count": 52,
   "metadata": {},
   "outputs": [],
   "source": [
    "realestate_df2.createOrReplaceTempView('transaction2')"
   ]
  },
  {
   "cell_type": "markdown",
   "metadata": {},
   "source": [
    "### <span style=\"color:midnightblue\"> Finding 2 : High and low value of the cities and the communes "
   ]
  },
  {
   "cell_type": "markdown",
   "metadata": {},
   "source": [
    "### <span style=\"color:midnightblue\"> -- CLUSTER ANALYSIS --"
   ]
  },
  {
   "cell_type": "markdown",
   "metadata": {},
   "source": [
    "We can test if the function cluster(field) well applies the number of the cluster 0, 1 and 2 to the good cities:"
   ]
  },
  {
   "cell_type": "code",
   "execution_count": 53,
   "metadata": {},
   "outputs": [
    {
     "name": "stdout",
     "output_type": "stream",
     "text": [
      "+-----------+------------------+-------+\n",
      "|       City|        PriceperM2|Cluster|\n",
      "+-----------+------------------+-------+\n",
      "|      PARIS|  8885.80228605206|      0|\n",
      "|   BORDEAUX| 4543.303593914549|      1|\n",
      "|       NICE| 4091.556539505126|      1|\n",
      "|       LYON| 4080.994472659625|      1|\n",
      "|   TOULOUSE| 3417.171031863762|      1|\n",
      "|      LILLE|3336.1175405750814|      2|\n",
      "|  MARSEILLE| 3310.060582941326|      2|\n",
      "|MONTPELLIER| 3247.441082214922|      2|\n",
      "|     NANTES|3217.8903138245855|      2|\n",
      "+-----------+------------------+-------+\n",
      "\n"
     ]
    }
   ],
   "source": [
    "spark.sql(\" SELECT City, AVG(PriceM2) as PriceperM2, Cluster \\\n",
    "                          FROM transaction2 \\\n",
    "                          GROUP BY City, Cluster \\\n",
    "                          ORDER BY PriceperM2 DESC \").show()\n",
    "\n"
   ]
  },
  {
   "cell_type": "code",
   "execution_count": 54,
   "metadata": {},
   "outputs": [
    {
     "data": {
      "text/html": [
       "<div>\n",
       "<style scoped>\n",
       "    .dataframe tbody tr th:only-of-type {\n",
       "        vertical-align: middle;\n",
       "    }\n",
       "\n",
       "    .dataframe tbody tr th {\n",
       "        vertical-align: top;\n",
       "    }\n",
       "\n",
       "    .dataframe thead th {\n",
       "        text-align: right;\n",
       "    }\n",
       "</style>\n",
       "<table border=\"1\" class=\"dataframe\">\n",
       "  <thead>\n",
       "    <tr style=\"text-align: right;\">\n",
       "      <th></th>\n",
       "      <th>City</th>\n",
       "      <th>Commune</th>\n",
       "      <th>PriceperM2</th>\n",
       "      <th>Cluster</th>\n",
       "    </tr>\n",
       "  </thead>\n",
       "  <tbody>\n",
       "    <tr>\n",
       "      <th>0</th>\n",
       "      <td>PARIS</td>\n",
       "      <td>PARIS 06</td>\n",
       "      <td>11678.867152</td>\n",
       "      <td>0</td>\n",
       "    </tr>\n",
       "    <tr>\n",
       "      <th>1</th>\n",
       "      <td>PARIS</td>\n",
       "      <td>PARIS 07</td>\n",
       "      <td>11542.193784</td>\n",
       "      <td>0</td>\n",
       "    </tr>\n",
       "    <tr>\n",
       "      <th>2</th>\n",
       "      <td>PARIS</td>\n",
       "      <td>PARIS 04</td>\n",
       "      <td>10952.433628</td>\n",
       "      <td>0</td>\n",
       "    </tr>\n",
       "    <tr>\n",
       "      <th>3</th>\n",
       "      <td>PARIS</td>\n",
       "      <td>PARIS 05</td>\n",
       "      <td>10605.502874</td>\n",
       "      <td>0</td>\n",
       "    </tr>\n",
       "    <tr>\n",
       "      <th>4</th>\n",
       "      <td>PARIS</td>\n",
       "      <td>PARIS 01</td>\n",
       "      <td>10600.788336</td>\n",
       "      <td>0</td>\n",
       "    </tr>\n",
       "    <tr>\n",
       "      <th>5</th>\n",
       "      <td>PARIS</td>\n",
       "      <td>PARIS 03</td>\n",
       "      <td>10368.889387</td>\n",
       "      <td>0</td>\n",
       "    </tr>\n",
       "    <tr>\n",
       "      <th>6</th>\n",
       "      <td>PARIS</td>\n",
       "      <td>PARIS 08</td>\n",
       "      <td>10211.927539</td>\n",
       "      <td>0</td>\n",
       "    </tr>\n",
       "    <tr>\n",
       "      <th>7</th>\n",
       "      <td>PARIS</td>\n",
       "      <td>PARIS 02</td>\n",
       "      <td>9805.702427</td>\n",
       "      <td>0</td>\n",
       "    </tr>\n",
       "    <tr>\n",
       "      <th>8</th>\n",
       "      <td>PARIS</td>\n",
       "      <td>PARIS 16</td>\n",
       "      <td>9605.647371</td>\n",
       "      <td>0</td>\n",
       "    </tr>\n",
       "    <tr>\n",
       "      <th>9</th>\n",
       "      <td>PARIS</td>\n",
       "      <td>PARIS 09</td>\n",
       "      <td>9425.536374</td>\n",
       "      <td>0</td>\n",
       "    </tr>\n",
       "    <tr>\n",
       "      <th>10</th>\n",
       "      <td>PARIS</td>\n",
       "      <td>PARIS 17</td>\n",
       "      <td>9059.325172</td>\n",
       "      <td>0</td>\n",
       "    </tr>\n",
       "    <tr>\n",
       "      <th>11</th>\n",
       "      <td>PARIS</td>\n",
       "      <td>PARIS 14</td>\n",
       "      <td>8940.000892</td>\n",
       "      <td>0</td>\n",
       "    </tr>\n",
       "    <tr>\n",
       "      <th>12</th>\n",
       "      <td>PARIS</td>\n",
       "      <td>PARIS 15</td>\n",
       "      <td>8746.439911</td>\n",
       "      <td>0</td>\n",
       "    </tr>\n",
       "    <tr>\n",
       "      <th>13</th>\n",
       "      <td>PARIS</td>\n",
       "      <td>PARIS 11</td>\n",
       "      <td>8689.335408</td>\n",
       "      <td>0</td>\n",
       "    </tr>\n",
       "    <tr>\n",
       "      <th>14</th>\n",
       "      <td>PARIS</td>\n",
       "      <td>PARIS 10</td>\n",
       "      <td>8604.180649</td>\n",
       "      <td>0</td>\n",
       "    </tr>\n",
       "    <tr>\n",
       "      <th>15</th>\n",
       "      <td>PARIS</td>\n",
       "      <td>PARIS 12</td>\n",
       "      <td>8257.852169</td>\n",
       "      <td>0</td>\n",
       "    </tr>\n",
       "    <tr>\n",
       "      <th>16</th>\n",
       "      <td>PARIS</td>\n",
       "      <td>PARIS 13</td>\n",
       "      <td>8136.584706</td>\n",
       "      <td>0</td>\n",
       "    </tr>\n",
       "    <tr>\n",
       "      <th>17</th>\n",
       "      <td>PARIS</td>\n",
       "      <td>PARIS 18</td>\n",
       "      <td>8096.747294</td>\n",
       "      <td>0</td>\n",
       "    </tr>\n",
       "    <tr>\n",
       "      <th>18</th>\n",
       "      <td>PARIS</td>\n",
       "      <td>PARIS 20</td>\n",
       "      <td>7461.374977</td>\n",
       "      <td>0</td>\n",
       "    </tr>\n",
       "    <tr>\n",
       "      <th>19</th>\n",
       "      <td>PARIS</td>\n",
       "      <td>PARIS 19</td>\n",
       "      <td>7340.229952</td>\n",
       "      <td>0</td>\n",
       "    </tr>\n",
       "    <tr>\n",
       "      <th>20</th>\n",
       "      <td>LYON</td>\n",
       "      <td>LYON 2EME</td>\n",
       "      <td>4839.092930</td>\n",
       "      <td>1</td>\n",
       "    </tr>\n",
       "    <tr>\n",
       "      <th>21</th>\n",
       "      <td>LYON</td>\n",
       "      <td>LYON 6EME</td>\n",
       "      <td>4713.521186</td>\n",
       "      <td>1</td>\n",
       "    </tr>\n",
       "    <tr>\n",
       "      <th>22</th>\n",
       "      <td>LYON</td>\n",
       "      <td>LYON 1ER</td>\n",
       "      <td>4635.325493</td>\n",
       "      <td>1</td>\n",
       "    </tr>\n",
       "    <tr>\n",
       "      <th>23</th>\n",
       "      <td>BORDEAUX</td>\n",
       "      <td>BORDEAUX</td>\n",
       "      <td>4543.303594</td>\n",
       "      <td>1</td>\n",
       "    </tr>\n",
       "    <tr>\n",
       "      <th>24</th>\n",
       "      <td>LYON</td>\n",
       "      <td>LYON 4EME</td>\n",
       "      <td>4496.375889</td>\n",
       "      <td>1</td>\n",
       "    </tr>\n",
       "    <tr>\n",
       "      <th>25</th>\n",
       "      <td>NICE</td>\n",
       "      <td>NICE</td>\n",
       "      <td>4091.556540</td>\n",
       "      <td>1</td>\n",
       "    </tr>\n",
       "    <tr>\n",
       "      <th>26</th>\n",
       "      <td>MARSEILLE</td>\n",
       "      <td>MARSEILLE 7EME</td>\n",
       "      <td>4021.365413</td>\n",
       "      <td>2</td>\n",
       "    </tr>\n",
       "    <tr>\n",
       "      <th>27</th>\n",
       "      <td>LYON</td>\n",
       "      <td>LYON 7EME</td>\n",
       "      <td>4012.280493</td>\n",
       "      <td>1</td>\n",
       "    </tr>\n",
       "    <tr>\n",
       "      <th>28</th>\n",
       "      <td>LYON</td>\n",
       "      <td>LYON 3EME</td>\n",
       "      <td>3944.537821</td>\n",
       "      <td>1</td>\n",
       "    </tr>\n",
       "    <tr>\n",
       "      <th>29</th>\n",
       "      <td>MARSEILLE</td>\n",
       "      <td>MARSEILLE 8EME</td>\n",
       "      <td>3784.909541</td>\n",
       "      <td>2</td>\n",
       "    </tr>\n",
       "    <tr>\n",
       "      <th>30</th>\n",
       "      <td>LYON</td>\n",
       "      <td>LYON 8EME</td>\n",
       "      <td>3763.039436</td>\n",
       "      <td>1</td>\n",
       "    </tr>\n",
       "    <tr>\n",
       "      <th>31</th>\n",
       "      <td>LYON</td>\n",
       "      <td>LYON 5EME</td>\n",
       "      <td>3685.473815</td>\n",
       "      <td>1</td>\n",
       "    </tr>\n",
       "    <tr>\n",
       "      <th>32</th>\n",
       "      <td>LYON</td>\n",
       "      <td>LYON 9EME</td>\n",
       "      <td>3640.885600</td>\n",
       "      <td>1</td>\n",
       "    </tr>\n",
       "    <tr>\n",
       "      <th>33</th>\n",
       "      <td>MARSEILLE</td>\n",
       "      <td>MARSEILLE 16EME</td>\n",
       "      <td>3569.737277</td>\n",
       "      <td>2</td>\n",
       "    </tr>\n",
       "    <tr>\n",
       "      <th>34</th>\n",
       "      <td>MARSEILLE</td>\n",
       "      <td>MARSEILLE 12EME</td>\n",
       "      <td>3501.687259</td>\n",
       "      <td>2</td>\n",
       "    </tr>\n",
       "    <tr>\n",
       "      <th>35</th>\n",
       "      <td>MARSEILLE</td>\n",
       "      <td>MARSEILLE 11EME</td>\n",
       "      <td>3433.420169</td>\n",
       "      <td>2</td>\n",
       "    </tr>\n",
       "    <tr>\n",
       "      <th>36</th>\n",
       "      <td>TOULOUSE</td>\n",
       "      <td>TOULOUSE</td>\n",
       "      <td>3417.171032</td>\n",
       "      <td>1</td>\n",
       "    </tr>\n",
       "    <tr>\n",
       "      <th>37</th>\n",
       "      <td>MARSEILLE</td>\n",
       "      <td>MARSEILLE 6EME</td>\n",
       "      <td>3371.997643</td>\n",
       "      <td>2</td>\n",
       "    </tr>\n",
       "    <tr>\n",
       "      <th>38</th>\n",
       "      <td>MARSEILLE</td>\n",
       "      <td>MARSEILLE 1ER</td>\n",
       "      <td>3354.249182</td>\n",
       "      <td>2</td>\n",
       "    </tr>\n",
       "    <tr>\n",
       "      <th>39</th>\n",
       "      <td>MARSEILLE</td>\n",
       "      <td>MARSEILLE 15EME</td>\n",
       "      <td>3352.889982</td>\n",
       "      <td>2</td>\n",
       "    </tr>\n",
       "    <tr>\n",
       "      <th>40</th>\n",
       "      <td>LILLE</td>\n",
       "      <td>LILLE</td>\n",
       "      <td>3336.117541</td>\n",
       "      <td>2</td>\n",
       "    </tr>\n",
       "    <tr>\n",
       "      <th>41</th>\n",
       "      <td>MARSEILLE</td>\n",
       "      <td>MARSEILLE 2EME</td>\n",
       "      <td>3266.173062</td>\n",
       "      <td>2</td>\n",
       "    </tr>\n",
       "    <tr>\n",
       "      <th>42</th>\n",
       "      <td>MARSEILLE</td>\n",
       "      <td>MARSEILLE 3EME</td>\n",
       "      <td>3260.347346</td>\n",
       "      <td>2</td>\n",
       "    </tr>\n",
       "    <tr>\n",
       "      <th>43</th>\n",
       "      <td>MONTPELLIER</td>\n",
       "      <td>MONTPELLIER</td>\n",
       "      <td>3247.441082</td>\n",
       "      <td>2</td>\n",
       "    </tr>\n",
       "    <tr>\n",
       "      <th>44</th>\n",
       "      <td>NANTES</td>\n",
       "      <td>NANTES</td>\n",
       "      <td>3217.890314</td>\n",
       "      <td>2</td>\n",
       "    </tr>\n",
       "    <tr>\n",
       "      <th>45</th>\n",
       "      <td>MARSEILLE</td>\n",
       "      <td>MARSEILLE 9EME</td>\n",
       "      <td>3215.492027</td>\n",
       "      <td>2</td>\n",
       "    </tr>\n",
       "    <tr>\n",
       "      <th>46</th>\n",
       "      <td>MARSEILLE</td>\n",
       "      <td>MARSEILLE 13EME</td>\n",
       "      <td>3065.673244</td>\n",
       "      <td>2</td>\n",
       "    </tr>\n",
       "    <tr>\n",
       "      <th>47</th>\n",
       "      <td>MARSEILLE</td>\n",
       "      <td>MARSEILLE 5EME</td>\n",
       "      <td>3011.153728</td>\n",
       "      <td>2</td>\n",
       "    </tr>\n",
       "    <tr>\n",
       "      <th>48</th>\n",
       "      <td>MARSEILLE</td>\n",
       "      <td>MARSEILLE 10EME</td>\n",
       "      <td>2910.055059</td>\n",
       "      <td>2</td>\n",
       "    </tr>\n",
       "    <tr>\n",
       "      <th>49</th>\n",
       "      <td>MARSEILLE</td>\n",
       "      <td>MARSEILLE 14EME</td>\n",
       "      <td>2859.704873</td>\n",
       "      <td>2</td>\n",
       "    </tr>\n",
       "    <tr>\n",
       "      <th>50</th>\n",
       "      <td>MARSEILLE</td>\n",
       "      <td>MARSEILLE 4EME</td>\n",
       "      <td>2833.798311</td>\n",
       "      <td>2</td>\n",
       "    </tr>\n",
       "  </tbody>\n",
       "</table>\n",
       "</div>"
      ],
      "text/plain": [
       "           City          Commune    PriceperM2  Cluster\n",
       "0         PARIS         PARIS 06  11678.867152        0\n",
       "1         PARIS         PARIS 07  11542.193784        0\n",
       "2         PARIS         PARIS 04  10952.433628        0\n",
       "3         PARIS         PARIS 05  10605.502874        0\n",
       "4         PARIS         PARIS 01  10600.788336        0\n",
       "5         PARIS         PARIS 03  10368.889387        0\n",
       "6         PARIS         PARIS 08  10211.927539        0\n",
       "7         PARIS         PARIS 02   9805.702427        0\n",
       "8         PARIS         PARIS 16   9605.647371        0\n",
       "9         PARIS         PARIS 09   9425.536374        0\n",
       "10        PARIS         PARIS 17   9059.325172        0\n",
       "11        PARIS         PARIS 14   8940.000892        0\n",
       "12        PARIS         PARIS 15   8746.439911        0\n",
       "13        PARIS         PARIS 11   8689.335408        0\n",
       "14        PARIS         PARIS 10   8604.180649        0\n",
       "15        PARIS         PARIS 12   8257.852169        0\n",
       "16        PARIS         PARIS 13   8136.584706        0\n",
       "17        PARIS         PARIS 18   8096.747294        0\n",
       "18        PARIS         PARIS 20   7461.374977        0\n",
       "19        PARIS         PARIS 19   7340.229952        0\n",
       "20         LYON        LYON 2EME   4839.092930        1\n",
       "21         LYON        LYON 6EME   4713.521186        1\n",
       "22         LYON         LYON 1ER   4635.325493        1\n",
       "23     BORDEAUX         BORDEAUX   4543.303594        1\n",
       "24         LYON        LYON 4EME   4496.375889        1\n",
       "25         NICE             NICE   4091.556540        1\n",
       "26    MARSEILLE   MARSEILLE 7EME   4021.365413        2\n",
       "27         LYON        LYON 7EME   4012.280493        1\n",
       "28         LYON        LYON 3EME   3944.537821        1\n",
       "29    MARSEILLE   MARSEILLE 8EME   3784.909541        2\n",
       "30         LYON        LYON 8EME   3763.039436        1\n",
       "31         LYON        LYON 5EME   3685.473815        1\n",
       "32         LYON        LYON 9EME   3640.885600        1\n",
       "33    MARSEILLE  MARSEILLE 16EME   3569.737277        2\n",
       "34    MARSEILLE  MARSEILLE 12EME   3501.687259        2\n",
       "35    MARSEILLE  MARSEILLE 11EME   3433.420169        2\n",
       "36     TOULOUSE         TOULOUSE   3417.171032        1\n",
       "37    MARSEILLE   MARSEILLE 6EME   3371.997643        2\n",
       "38    MARSEILLE    MARSEILLE 1ER   3354.249182        2\n",
       "39    MARSEILLE  MARSEILLE 15EME   3352.889982        2\n",
       "40        LILLE            LILLE   3336.117541        2\n",
       "41    MARSEILLE   MARSEILLE 2EME   3266.173062        2\n",
       "42    MARSEILLE   MARSEILLE 3EME   3260.347346        2\n",
       "43  MONTPELLIER      MONTPELLIER   3247.441082        2\n",
       "44       NANTES           NANTES   3217.890314        2\n",
       "45    MARSEILLE   MARSEILLE 9EME   3215.492027        2\n",
       "46    MARSEILLE  MARSEILLE 13EME   3065.673244        2\n",
       "47    MARSEILLE   MARSEILLE 5EME   3011.153728        2\n",
       "48    MARSEILLE  MARSEILLE 10EME   2910.055059        2\n",
       "49    MARSEILLE  MARSEILLE 14EME   2859.704873        2\n",
       "50    MARSEILLE   MARSEILLE 4EME   2833.798311        2"
      ]
     },
     "execution_count": 54,
     "metadata": {},
     "output_type": "execute_result"
    }
   ],
   "source": [
    "Cluster_df = spark.sql(\"SELECT City, Commune, AVG(priceM2) AS PriceperM2, Cluster \\\n",
    "                          FROM transaction2 \\\n",
    "                          GROUP BY City, Commune, Cluster \\\n",
    "                          ORDER BY PriceperM2 DESC \").toPandas()\n",
    "\n",
    "\n",
    "Cluster_df"
   ]
  },
  {
   "cell_type": "markdown",
   "metadata": {},
   "source": [
    "We attribute one different color for each group of cities:"
   ]
  },
  {
   "cell_type": "code",
   "execution_count": 85,
   "metadata": {},
   "outputs": [
    {
     "data": {
      "image/png": "[encoded data removed]",
      "text/plain": [
       "<Figure size 720x576 with 1 Axes>"
      ]
     },
     "metadata": {
      "needs_background": "light"
     },
     "output_type": "display_data"
    }
   ],
   "source": [
    "colors = { 0 : '#0000FF', 1 : '#357AB7', 2 : '#77B5FE' }\n",
    "\n",
    "labels = list(colors.keys())\n",
    "\n",
    "\n",
    "barplot2 = Cluster_df.plot.bar(x= 'Commune', y= 'PriceperM2', color = Cluster_df[\"Cluster\"].map(colors))\n",
    "barplot2.set_ylabel(\"Average price per m² (€)\")\n",
    "barplot2.set_title('Average price per m² per Commune')\n",
    "barplot2.legend(labels)\n",
    "plt.rcParams['figure.figsize'] = (11,3)"
   ]
  },
  {
   "cell_type": "markdown",
   "metadata": {},
   "source": [
    "#### <span style=\"color:midnightblue\"> Finding 2 conclusion:\n",
    "\n",
    "Paris is still the city with the highest distribution of price per m². Some disctrict in Lyon seem to have lower prices per square meter than the average throughout the all city. Conversely, in Marseille, some distrits such as the 7ème and the 8ème seem to be valued neighbourhoods and might be observed over time. \n",
    "On the whole, undoubtedly, Paris is the highest valuable city in terme of price per m². The lowest valuable area goes to some district of Marseille. "
   ]
  },
  {
   "cell_type": "markdown",
   "metadata": {},
   "source": [
    "### <span style=\"color:midnightblue\"> Finding 3 : Price/City per Year"
   ]
  },
  {
   "cell_type": "code",
   "execution_count": 57,
   "metadata": {},
   "outputs": [
    {
     "name": "stdout",
     "output_type": "stream",
     "text": [
      "Requirement already satisfied: datefinder in /opt/conda/lib/python3.8/site-packages (0.7.1)\n",
      "Requirement already satisfied: pytz in /opt/conda/lib/python3.8/site-packages (from datefinder) (2020.1)\n",
      "Requirement already satisfied: regex>=2017.02.08 in /opt/conda/lib/python3.8/site-packages (from datefinder) (2020.11.13)\n",
      "Requirement already satisfied: python-dateutil>=2.4.2 in /opt/conda/lib/python3.8/site-packages (from datefinder) (2.8.1)\n",
      "Requirement already satisfied: six>=1.5 in /opt/conda/lib/python3.8/site-packages (from python-dateutil>=2.4.2->datefinder) (1.15.0)\n"
     ]
    }
   ],
   "source": [
    "!pip install datefinder"
   ]
  },
  {
   "cell_type": "code",
   "execution_count": 58,
   "metadata": {},
   "outputs": [],
   "source": [
    "import datefinder"
   ]
  },
  {
   "cell_type": "code",
   "execution_count": 59,
   "metadata": {},
   "outputs": [
    {
     "data": {
      "text/plain": [
       "5"
      ]
     },
     "execution_count": 59,
     "metadata": {},
     "output_type": "execute_result"
    }
   ],
   "source": [
    "def find_date(dt) :\n",
    "    matches = list(datefinder.find_dates(dt))\n",
    "    if len(matches) > 0:\n",
    "        date_ = matches[0]\n",
    "    else : \n",
    "        date_ = None\n",
    "    return date_\n",
    "\n",
    "rdd_estate_nb_year = rdd_clean_realestate.map(lambda tuple: find_date(tuple[1]).year) \n",
    "rdd_estate_nb_year.distinct().count()"
   ]
  },
  {
   "cell_type": "code",
   "execution_count": 60,
   "metadata": {},
   "outputs": [
    {
     "name": "stdout",
     "output_type": "stream",
     "text": [
      "+-------+------------+\n",
      "|   Date|PRICE PER M²|\n",
      "+-------+------------+\n",
      "|01/2015|        5134|\n",
      "|01/2016|        4674|\n",
      "|01/2017|        5473|\n",
      "|01/2018|        5665|\n",
      "|01/2019|        5821|\n",
      "|02/2015|        5070|\n",
      "|02/2016|        4977|\n",
      "|02/2017|        5384|\n",
      "|02/2018|        5626|\n",
      "|02/2019|        5922|\n",
      "|03/2015|        5195|\n",
      "|03/2016|        5170|\n",
      "|03/2017|        5483|\n",
      "|03/2018|        5774|\n",
      "|03/2019|        5873|\n",
      "|04/2015|        5078|\n",
      "|04/2016|        5254|\n",
      "|04/2017|        5444|\n",
      "|04/2018|        5749|\n",
      "|04/2019|        5929|\n",
      "+-------+------------+\n",
      "only showing top 20 rows\n",
      "\n"
     ]
    }
   ],
   "source": [
    "spark.sql(\"SELECT SUBSTRING(`Sale Date`, 4, 7) AS Date, \\\n",
    "          int(AVG(PriceM2)) AS `PRICE PER M²` \\\n",
    "          FROM transaction2\\\n",
    "          GROUP BY Date\\\n",
    "          ORDER BY Date\").show()"
   ]
  },
  {
   "cell_type": "code",
   "execution_count": 61,
   "metadata": {},
   "outputs": [
    {
     "name": "stdout",
     "output_type": "stream",
     "text": [
      "+-------+-------+------------+\n",
      "|Cluster|   Date|PRICE PER M²|\n",
      "+-------+-------+------------+\n",
      "|      0|01/2015|        8211|\n",
      "|      0|01/2016|        8160|\n",
      "|      0|01/2017|        8716|\n",
      "|      0|01/2018|        9337|\n",
      "|      0|01/2019|        9832|\n",
      "|      0|02/2015|        8377|\n",
      "|      0|02/2016|        8277|\n",
      "|      0|02/2017|        8709|\n",
      "|      0|02/2018|        9253|\n",
      "|      0|02/2019|        9997|\n",
      "|      0|03/2015|        8117|\n",
      "|      0|03/2016|        8222|\n",
      "|      0|03/2017|        8747|\n",
      "|      0|03/2018|        9290|\n",
      "|      0|03/2019|       10010|\n",
      "|      0|04/2015|        8126|\n",
      "|      0|04/2016|        8428|\n",
      "|      0|04/2017|        8877|\n",
      "|      0|04/2018|        9459|\n",
      "|      0|04/2019|       10000|\n",
      "+-------+-------+------------+\n",
      "only showing top 20 rows\n",
      "\n"
     ]
    }
   ],
   "source": [
    "spark.sql(\"SELECT Cluster, SUBSTRING(`Sale Date`, 4, 7) AS Date, \\\n",
    "          int(AVG(PriceM2)) AS `PRICE PER M²` \\\n",
    "          FROM transaction2\\\n",
    "          GROUP BY Cluster, Date\\\n",
    "          ORDER BY Cluster, Date\").show()"
   ]
  },
  {
   "cell_type": "code",
   "execution_count": 62,
   "metadata": {},
   "outputs": [
    {
     "data": {
      "text/html": [
       "<div>\n",
       "<style scoped>\n",
       "    .dataframe tbody tr th:only-of-type {\n",
       "        vertical-align: middle;\n",
       "    }\n",
       "\n",
       "    .dataframe tbody tr th {\n",
       "        vertical-align: top;\n",
       "    }\n",
       "\n",
       "    .dataframe thead th {\n",
       "        text-align: right;\n",
       "    }\n",
       "</style>\n",
       "<table border=\"1\" class=\"dataframe\">\n",
       "  <thead>\n",
       "    <tr style=\"text-align: right;\">\n",
       "      <th></th>\n",
       "      <th>Date</th>\n",
       "      <th>PRICE PER M²</th>\n",
       "    </tr>\n",
       "  </thead>\n",
       "  <tbody>\n",
       "    <tr>\n",
       "      <th>0</th>\n",
       "      <td>01/2015</td>\n",
       "      <td>5134</td>\n",
       "    </tr>\n",
       "    <tr>\n",
       "      <th>1</th>\n",
       "      <td>01/2016</td>\n",
       "      <td>4674</td>\n",
       "    </tr>\n",
       "    <tr>\n",
       "      <th>2</th>\n",
       "      <td>01/2017</td>\n",
       "      <td>5473</td>\n",
       "    </tr>\n",
       "    <tr>\n",
       "      <th>3</th>\n",
       "      <td>01/2018</td>\n",
       "      <td>5665</td>\n",
       "    </tr>\n",
       "    <tr>\n",
       "      <th>4</th>\n",
       "      <td>01/2019</td>\n",
       "      <td>5821</td>\n",
       "    </tr>\n",
       "    <tr>\n",
       "      <th>5</th>\n",
       "      <td>02/2015</td>\n",
       "      <td>5070</td>\n",
       "    </tr>\n",
       "    <tr>\n",
       "      <th>6</th>\n",
       "      <td>02/2016</td>\n",
       "      <td>4977</td>\n",
       "    </tr>\n",
       "    <tr>\n",
       "      <th>7</th>\n",
       "      <td>02/2017</td>\n",
       "      <td>5384</td>\n",
       "    </tr>\n",
       "    <tr>\n",
       "      <th>8</th>\n",
       "      <td>02/2018</td>\n",
       "      <td>5626</td>\n",
       "    </tr>\n",
       "    <tr>\n",
       "      <th>9</th>\n",
       "      <td>02/2019</td>\n",
       "      <td>5922</td>\n",
       "    </tr>\n",
       "    <tr>\n",
       "      <th>10</th>\n",
       "      <td>03/2015</td>\n",
       "      <td>5195</td>\n",
       "    </tr>\n",
       "    <tr>\n",
       "      <th>11</th>\n",
       "      <td>03/2016</td>\n",
       "      <td>5170</td>\n",
       "    </tr>\n",
       "    <tr>\n",
       "      <th>12</th>\n",
       "      <td>03/2017</td>\n",
       "      <td>5483</td>\n",
       "    </tr>\n",
       "    <tr>\n",
       "      <th>13</th>\n",
       "      <td>03/2018</td>\n",
       "      <td>5774</td>\n",
       "    </tr>\n",
       "    <tr>\n",
       "      <th>14</th>\n",
       "      <td>03/2019</td>\n",
       "      <td>5873</td>\n",
       "    </tr>\n",
       "    <tr>\n",
       "      <th>15</th>\n",
       "      <td>04/2015</td>\n",
       "      <td>5078</td>\n",
       "    </tr>\n",
       "    <tr>\n",
       "      <th>16</th>\n",
       "      <td>04/2016</td>\n",
       "      <td>5254</td>\n",
       "    </tr>\n",
       "    <tr>\n",
       "      <th>17</th>\n",
       "      <td>04/2017</td>\n",
       "      <td>5444</td>\n",
       "    </tr>\n",
       "    <tr>\n",
       "      <th>18</th>\n",
       "      <td>04/2018</td>\n",
       "      <td>5749</td>\n",
       "    </tr>\n",
       "    <tr>\n",
       "      <th>19</th>\n",
       "      <td>04/2019</td>\n",
       "      <td>5929</td>\n",
       "    </tr>\n",
       "    <tr>\n",
       "      <th>20</th>\n",
       "      <td>05/2015</td>\n",
       "      <td>5110</td>\n",
       "    </tr>\n",
       "    <tr>\n",
       "      <th>21</th>\n",
       "      <td>05/2016</td>\n",
       "      <td>5223</td>\n",
       "    </tr>\n",
       "    <tr>\n",
       "      <th>22</th>\n",
       "      <td>05/2017</td>\n",
       "      <td>5456</td>\n",
       "    </tr>\n",
       "    <tr>\n",
       "      <th>23</th>\n",
       "      <td>05/2018</td>\n",
       "      <td>5645</td>\n",
       "    </tr>\n",
       "    <tr>\n",
       "      <th>24</th>\n",
       "      <td>05/2019</td>\n",
       "      <td>5755</td>\n",
       "    </tr>\n",
       "    <tr>\n",
       "      <th>25</th>\n",
       "      <td>06/2015</td>\n",
       "      <td>5157</td>\n",
       "    </tr>\n",
       "    <tr>\n",
       "      <th>26</th>\n",
       "      <td>06/2016</td>\n",
       "      <td>5254</td>\n",
       "    </tr>\n",
       "    <tr>\n",
       "      <th>27</th>\n",
       "      <td>06/2017</td>\n",
       "      <td>5441</td>\n",
       "    </tr>\n",
       "    <tr>\n",
       "      <th>28</th>\n",
       "      <td>06/2018</td>\n",
       "      <td>5749</td>\n",
       "    </tr>\n",
       "    <tr>\n",
       "      <th>29</th>\n",
       "      <td>06/2019</td>\n",
       "      <td>5794</td>\n",
       "    </tr>\n",
       "    <tr>\n",
       "      <th>30</th>\n",
       "      <td>07/2015</td>\n",
       "      <td>5125</td>\n",
       "    </tr>\n",
       "    <tr>\n",
       "      <th>31</th>\n",
       "      <td>07/2016</td>\n",
       "      <td>5377</td>\n",
       "    </tr>\n",
       "    <tr>\n",
       "      <th>32</th>\n",
       "      <td>07/2017</td>\n",
       "      <td>5615</td>\n",
       "    </tr>\n",
       "    <tr>\n",
       "      <th>33</th>\n",
       "      <td>07/2018</td>\n",
       "      <td>5812</td>\n",
       "    </tr>\n",
       "    <tr>\n",
       "      <th>34</th>\n",
       "      <td>08/2015</td>\n",
       "      <td>4777</td>\n",
       "    </tr>\n",
       "    <tr>\n",
       "      <th>35</th>\n",
       "      <td>08/2016</td>\n",
       "      <td>4874</td>\n",
       "    </tr>\n",
       "    <tr>\n",
       "      <th>36</th>\n",
       "      <td>08/2017</td>\n",
       "      <td>5215</td>\n",
       "    </tr>\n",
       "    <tr>\n",
       "      <th>37</th>\n",
       "      <td>08/2018</td>\n",
       "      <td>5238</td>\n",
       "    </tr>\n",
       "    <tr>\n",
       "      <th>38</th>\n",
       "      <td>09/2015</td>\n",
       "      <td>5290</td>\n",
       "    </tr>\n",
       "    <tr>\n",
       "      <th>39</th>\n",
       "      <td>09/2016</td>\n",
       "      <td>5419</td>\n",
       "    </tr>\n",
       "    <tr>\n",
       "      <th>40</th>\n",
       "      <td>09/2017</td>\n",
       "      <td>5666</td>\n",
       "    </tr>\n",
       "    <tr>\n",
       "      <th>41</th>\n",
       "      <td>09/2018</td>\n",
       "      <td>5887</td>\n",
       "    </tr>\n",
       "    <tr>\n",
       "      <th>42</th>\n",
       "      <td>10/2015</td>\n",
       "      <td>5307</td>\n",
       "    </tr>\n",
       "    <tr>\n",
       "      <th>43</th>\n",
       "      <td>10/2016</td>\n",
       "      <td>5407</td>\n",
       "    </tr>\n",
       "    <tr>\n",
       "      <th>44</th>\n",
       "      <td>10/2017</td>\n",
       "      <td>5649</td>\n",
       "    </tr>\n",
       "    <tr>\n",
       "      <th>45</th>\n",
       "      <td>10/2018</td>\n",
       "      <td>5908</td>\n",
       "    </tr>\n",
       "    <tr>\n",
       "      <th>46</th>\n",
       "      <td>11/2015</td>\n",
       "      <td>5154</td>\n",
       "    </tr>\n",
       "    <tr>\n",
       "      <th>47</th>\n",
       "      <td>11/2016</td>\n",
       "      <td>5301</td>\n",
       "    </tr>\n",
       "    <tr>\n",
       "      <th>48</th>\n",
       "      <td>11/2017</td>\n",
       "      <td>5436</td>\n",
       "    </tr>\n",
       "    <tr>\n",
       "      <th>49</th>\n",
       "      <td>11/2018</td>\n",
       "      <td>5851</td>\n",
       "    </tr>\n",
       "    <tr>\n",
       "      <th>50</th>\n",
       "      <td>12/2015</td>\n",
       "      <td>5634</td>\n",
       "    </tr>\n",
       "    <tr>\n",
       "      <th>51</th>\n",
       "      <td>12/2016</td>\n",
       "      <td>5201</td>\n",
       "    </tr>\n",
       "    <tr>\n",
       "      <th>52</th>\n",
       "      <td>12/2017</td>\n",
       "      <td>5543</td>\n",
       "    </tr>\n",
       "    <tr>\n",
       "      <th>53</th>\n",
       "      <td>12/2018</td>\n",
       "      <td>5891</td>\n",
       "    </tr>\n",
       "  </tbody>\n",
       "</table>\n",
       "</div>"
      ],
      "text/plain": [
       "       Date  PRICE PER M²\n",
       "0   01/2015          5134\n",
       "1   01/2016          4674\n",
       "2   01/2017          5473\n",
       "3   01/2018          5665\n",
       "4   01/2019          5821\n",
       "5   02/2015          5070\n",
       "6   02/2016          4977\n",
       "7   02/2017          5384\n",
       "8   02/2018          5626\n",
       "9   02/2019          5922\n",
       "10  03/2015          5195\n",
       "11  03/2016          5170\n",
       "12  03/2017          5483\n",
       "13  03/2018          5774\n",
       "14  03/2019          5873\n",
       "15  04/2015          5078\n",
       "16  04/2016          5254\n",
       "17  04/2017          5444\n",
       "18  04/2018          5749\n",
       "19  04/2019          5929\n",
       "20  05/2015          5110\n",
       "21  05/2016          5223\n",
       "22  05/2017          5456\n",
       "23  05/2018          5645\n",
       "24  05/2019          5755\n",
       "25  06/2015          5157\n",
       "26  06/2016          5254\n",
       "27  06/2017          5441\n",
       "28  06/2018          5749\n",
       "29  06/2019          5794\n",
       "30  07/2015          5125\n",
       "31  07/2016          5377\n",
       "32  07/2017          5615\n",
       "33  07/2018          5812\n",
       "34  08/2015          4777\n",
       "35  08/2016          4874\n",
       "36  08/2017          5215\n",
       "37  08/2018          5238\n",
       "38  09/2015          5290\n",
       "39  09/2016          5419\n",
       "40  09/2017          5666\n",
       "41  09/2018          5887\n",
       "42  10/2015          5307\n",
       "43  10/2016          5407\n",
       "44  10/2017          5649\n",
       "45  10/2018          5908\n",
       "46  11/2015          5154\n",
       "47  11/2016          5301\n",
       "48  11/2017          5436\n",
       "49  11/2018          5851\n",
       "50  12/2015          5634\n",
       "51  12/2016          5201\n",
       "52  12/2017          5543\n",
       "53  12/2018          5891"
      ]
     },
     "execution_count": 62,
     "metadata": {},
     "output_type": "execute_result"
    }
   ],
   "source": [
    "df_3 = spark.sql(\"SELECT SUBSTRING(`Sale Date`, 4, 7) AS Date, \\\n",
    "          int(AVG(PriceM2)) AS `PRICE PER M²` \\\n",
    "          FROM transaction2\\\n",
    "          GROUP BY Date\\\n",
    "          ORDER BY Date\").toPandas()\n",
    "df_3"
   ]
  },
  {
   "cell_type": "code",
   "execution_count": 63,
   "metadata": {},
   "outputs": [
    {
     "data": {
      "text/html": [
       "<div>\n",
       "<style scoped>\n",
       "    .dataframe tbody tr th:only-of-type {\n",
       "        vertical-align: middle;\n",
       "    }\n",
       "\n",
       "    .dataframe tbody tr th {\n",
       "        vertical-align: top;\n",
       "    }\n",
       "\n",
       "    .dataframe thead th {\n",
       "        text-align: right;\n",
       "    }\n",
       "</style>\n",
       "<table border=\"1\" class=\"dataframe\">\n",
       "  <thead>\n",
       "    <tr style=\"text-align: right;\">\n",
       "      <th></th>\n",
       "      <th>Cluster</th>\n",
       "      <th>Date</th>\n",
       "      <th>PRICE PER M²</th>\n",
       "    </tr>\n",
       "  </thead>\n",
       "  <tbody>\n",
       "    <tr>\n",
       "      <th>0</th>\n",
       "      <td>0</td>\n",
       "      <td>01/2015</td>\n",
       "      <td>8211</td>\n",
       "    </tr>\n",
       "    <tr>\n",
       "      <th>1</th>\n",
       "      <td>0</td>\n",
       "      <td>01/2016</td>\n",
       "      <td>8160</td>\n",
       "    </tr>\n",
       "    <tr>\n",
       "      <th>2</th>\n",
       "      <td>0</td>\n",
       "      <td>01/2017</td>\n",
       "      <td>8716</td>\n",
       "    </tr>\n",
       "    <tr>\n",
       "      <th>3</th>\n",
       "      <td>0</td>\n",
       "      <td>01/2018</td>\n",
       "      <td>9337</td>\n",
       "    </tr>\n",
       "    <tr>\n",
       "      <th>4</th>\n",
       "      <td>0</td>\n",
       "      <td>01/2019</td>\n",
       "      <td>9832</td>\n",
       "    </tr>\n",
       "    <tr>\n",
       "      <th>...</th>\n",
       "      <td>...</td>\n",
       "      <td>...</td>\n",
       "      <td>...</td>\n",
       "    </tr>\n",
       "    <tr>\n",
       "      <th>157</th>\n",
       "      <td>2</td>\n",
       "      <td>11/2018</td>\n",
       "      <td>3372</td>\n",
       "    </tr>\n",
       "    <tr>\n",
       "      <th>158</th>\n",
       "      <td>2</td>\n",
       "      <td>12/2015</td>\n",
       "      <td>3281</td>\n",
       "    </tr>\n",
       "    <tr>\n",
       "      <th>159</th>\n",
       "      <td>2</td>\n",
       "      <td>12/2016</td>\n",
       "      <td>3423</td>\n",
       "    </tr>\n",
       "    <tr>\n",
       "      <th>160</th>\n",
       "      <td>2</td>\n",
       "      <td>12/2017</td>\n",
       "      <td>3553</td>\n",
       "    </tr>\n",
       "    <tr>\n",
       "      <th>161</th>\n",
       "      <td>2</td>\n",
       "      <td>12/2018</td>\n",
       "      <td>3492</td>\n",
       "    </tr>\n",
       "  </tbody>\n",
       "</table>\n",
       "<p>162 rows × 3 columns</p>\n",
       "</div>"
      ],
      "text/plain": [
       "     Cluster     Date  PRICE PER M²\n",
       "0          0  01/2015          8211\n",
       "1          0  01/2016          8160\n",
       "2          0  01/2017          8716\n",
       "3          0  01/2018          9337\n",
       "4          0  01/2019          9832\n",
       "..       ...      ...           ...\n",
       "157        2  11/2018          3372\n",
       "158        2  12/2015          3281\n",
       "159        2  12/2016          3423\n",
       "160        2  12/2017          3553\n",
       "161        2  12/2018          3492\n",
       "\n",
       "[162 rows x 3 columns]"
      ]
     },
     "execution_count": 63,
     "metadata": {},
     "output_type": "execute_result"
    }
   ],
   "source": [
    "df_cl = spark.sql(\"SELECT Cluster, SUBSTRING(`Sale Date`, 4, 7) AS Date, \\\n",
    "          int(AVG(PriceM2)) AS `PRICE PER M²` \\\n",
    "          FROM transaction2\\\n",
    "          GROUP BY Cluster, Date\\\n",
    "          ORDER BY Cluster, Date\").toPandas()\n",
    "df_cl\n"
   ]
  },
  {
   "cell_type": "code",
   "execution_count": 64,
   "metadata": {},
   "outputs": [],
   "source": [
    "df_3['Date'] = pd.to_datetime(df_3['Date'], format='%m/%Y')\n",
    "df_cl['Date'] = pd.to_datetime(df_cl['Date'], format='%m/%Y')"
   ]
  },
  {
   "cell_type": "code",
   "execution_count": 65,
   "metadata": {},
   "outputs": [
    {
     "data": {
      "image/png": "[encoded data removed]",
      "text/plain": [
       "<Figure size 432x288 with 1 Axes>"
      ]
     },
     "metadata": {
      "needs_background": "light"
     },
     "output_type": "display_data"
    }
   ],
   "source": [
    "df_3 = df_3.sort_values(by='Date')\n",
    "plt.plot(df_3['Date'], df_3['PRICE PER M²'])\n",
    "plt.title(\"Average Price per M² over the past 5 years\")\n",
    "plt.xlabel(\"Date\")\n",
    "plt.ylabel(\"Price per M²\")\n",
    "plt.show()"
   ]
  },
  {
   "cell_type": "code",
   "execution_count": 66,
   "metadata": {},
   "outputs": [
    {
     "data": {
      "image/png": "[encoded data removed]",
      "text/plain": [
       "<Figure size 432x288 with 1 Axes>"
      ]
     },
     "metadata": {
      "needs_background": "light"
     },
     "output_type": "display_data"
    }
   ],
   "source": [
    "#colors = { 0 : '#0000FF', 1 : '#357AB7', 2 : '#77B5FE' }\n",
    "\n",
    "df_cl_0 = df_cl[df_cl['Cluster'] == 0]\n",
    "df_cl_0 = df_cl_0.sort_values(by='Date')\n",
    "\n",
    "df_cl_1 = df_cl[df_cl['Cluster'] == 1]\n",
    "df_cl_1 = df_cl_1.sort_values(by='Date')\n",
    "\n",
    "df_cl_2 = df_cl[df_cl['Cluster'] == 2]\n",
    "df_cl_2 = df_cl_2.sort_values(by='Date')\n",
    "\n",
    "\n",
    "plt.plot(df_cl_0['Date'], df_cl_0['PRICE PER M²'], color='#0000FF', label=\"cluster 0\")\n",
    "plt.plot(df_cl_1['Date'], df_cl_1['PRICE PER M²'], color='#357AB7', label=\"cluster 1\")\n",
    "plt.plot(df_cl_2['Date'], df_cl_2['PRICE PER M²'], color='#77B5FE', label=\"cluster 2\")\n",
    "\n",
    "plt.title(\"Evolution of the Price per M² per Cluster over the years\")\n",
    "plt.xlabel(\"Date\")\n",
    "plt.ylabel(\"Price per M²\")\n",
    "plt.legend()\n",
    "plt.show()"
   ]
  },
  {
   "cell_type": "markdown",
   "metadata": {},
   "source": [
    "#### <span style=\"color:midnightblue\"> Finding 3 conclusion:\n",
    "On the first plot, From 2015 to 2019 the price per m² increases by 13,7% on average in our 9 cities.\n",
    "On the Evolution of the Price per m2 in 5 years, we can observe than the price per m2 in the Cluster 0 composed by Paris increases more that in any other city. The increase of the price per m2 on cluster 1 and 2 is less than 5% where the increase in Paris is about 25% in 5 years. \n"
   ]
  },
  {
   "cell_type": "markdown",
   "metadata": {},
   "source": [
    "### <span style=\"color:midnightblue\">  Finding 4: Attractivity and dynamism of the cities with the Number of transactions in 5 years "
   ]
  },
  {
   "cell_type": "code",
   "execution_count": 67,
   "metadata": {},
   "outputs": [
    {
     "name": "stdout",
     "output_type": "stream",
     "text": [
      "+-----------+----------------+-------+\n",
      "|       City|NBofTransactions|Cluster|\n",
      "+-----------+----------------+-------+\n",
      "|      PARIS|          141313|      0|\n",
      "|  MARSEILLE|           56476|      2|\n",
      "|   TOULOUSE|           45641|      1|\n",
      "|       NICE|           34501|      1|\n",
      "|       LYON|           32031|      1|\n",
      "|     NANTES|           28784|      2|\n",
      "|   BORDEAUX|           27412|      1|\n",
      "|MONTPELLIER|           22389|      2|\n",
      "|      LILLE|           21081|      2|\n",
      "+-----------+----------------+-------+\n",
      "\n"
     ]
    }
   ],
   "source": [
    "spark.sql(\"SELECT City, count(*) as NBofTransactions, Cluster \\\n",
    "          FROM transaction2 \\\n",
    "          GROUP BY City, Cluster \\\n",
    "          ORDER BY NBofTransactions DESC\").show()"
   ]
  },
  {
   "cell_type": "code",
   "execution_count": 68,
   "metadata": {},
   "outputs": [
    {
     "data": {
      "text/html": [
       "<div>\n",
       "<style scoped>\n",
       "    .dataframe tbody tr th:only-of-type {\n",
       "        vertical-align: middle;\n",
       "    }\n",
       "\n",
       "    .dataframe tbody tr th {\n",
       "        vertical-align: top;\n",
       "    }\n",
       "\n",
       "    .dataframe thead th {\n",
       "        text-align: right;\n",
       "    }\n",
       "</style>\n",
       "<table border=\"1\" class=\"dataframe\">\n",
       "  <thead>\n",
       "    <tr style=\"text-align: right;\">\n",
       "      <th></th>\n",
       "      <th>City</th>\n",
       "      <th>NBofTransactions</th>\n",
       "      <th>Cluster</th>\n",
       "    </tr>\n",
       "  </thead>\n",
       "  <tbody>\n",
       "    <tr>\n",
       "      <th>0</th>\n",
       "      <td>PARIS</td>\n",
       "      <td>141313</td>\n",
       "      <td>0</td>\n",
       "    </tr>\n",
       "    <tr>\n",
       "      <th>1</th>\n",
       "      <td>MARSEILLE</td>\n",
       "      <td>56476</td>\n",
       "      <td>2</td>\n",
       "    </tr>\n",
       "    <tr>\n",
       "      <th>2</th>\n",
       "      <td>TOULOUSE</td>\n",
       "      <td>45641</td>\n",
       "      <td>1</td>\n",
       "    </tr>\n",
       "    <tr>\n",
       "      <th>3</th>\n",
       "      <td>NICE</td>\n",
       "      <td>34501</td>\n",
       "      <td>1</td>\n",
       "    </tr>\n",
       "    <tr>\n",
       "      <th>4</th>\n",
       "      <td>LYON</td>\n",
       "      <td>32031</td>\n",
       "      <td>1</td>\n",
       "    </tr>\n",
       "    <tr>\n",
       "      <th>5</th>\n",
       "      <td>NANTES</td>\n",
       "      <td>28784</td>\n",
       "      <td>2</td>\n",
       "    </tr>\n",
       "    <tr>\n",
       "      <th>6</th>\n",
       "      <td>BORDEAUX</td>\n",
       "      <td>27412</td>\n",
       "      <td>1</td>\n",
       "    </tr>\n",
       "    <tr>\n",
       "      <th>7</th>\n",
       "      <td>MONTPELLIER</td>\n",
       "      <td>22389</td>\n",
       "      <td>2</td>\n",
       "    </tr>\n",
       "    <tr>\n",
       "      <th>8</th>\n",
       "      <td>LILLE</td>\n",
       "      <td>21081</td>\n",
       "      <td>2</td>\n",
       "    </tr>\n",
       "  </tbody>\n",
       "</table>\n",
       "</div>"
      ],
      "text/plain": [
       "          City  NBofTransactions  Cluster\n",
       "0        PARIS            141313        0\n",
       "1    MARSEILLE             56476        2\n",
       "2     TOULOUSE             45641        1\n",
       "3         NICE             34501        1\n",
       "4         LYON             32031        1\n",
       "5       NANTES             28784        2\n",
       "6     BORDEAUX             27412        1\n",
       "7  MONTPELLIER             22389        2\n",
       "8        LILLE             21081        2"
      ]
     },
     "execution_count": 68,
     "metadata": {},
     "output_type": "execute_result"
    }
   ],
   "source": [
    "nbTransaction_df = spark.sql(\"SELECT City, count(*) as NBofTransactions, Cluster \\\n",
    "          FROM transaction2 \\\n",
    "          GROUP BY City, Cluster \\\n",
    "          ORDER BY NBofTransactions DESC\").toPandas()\n",
    "nbTransaction_df"
   ]
  },
  {
   "cell_type": "code",
   "execution_count": 94,
   "metadata": {},
   "outputs": [
    {
     "data": {
      "image/png": "[encoded data removed]",
      "text/plain": [
       "<Figure size 648x576 with 1 Axes>"
      ]
     },
     "metadata": {
      "needs_background": "light"
     },
     "output_type": "display_data"
    }
   ],
   "source": [
    "barplot_nbTransaction = nbTransaction_df.plot.bar(x='City', y='NBofTransactions')\n",
    "\n",
    "barplot_nbTransaction.set_title('Number of Transactions in 5 years')\n",
    "\n",
    "plt.rcParams['figure.figsize'] = (9,8)"
   ]
  },
  {
   "cell_type": "markdown",
   "metadata": {},
   "source": [
    "#### <span style=\"color:midnightblue\"> Finding 4 conclusion:\n",
    "\n",
    "Within 5 years, according to the barplot above, the most attractive city in terms of number of transactions are Paris and Marseille. On the other hand, Lille and Montpellier have the less dynamic real estate markets."
   ]
  },
  {
   "cell_type": "markdown",
   "metadata": {},
   "source": [
    "### <span style=\"color:midnightblue\">  Finding 5: Difference of number of House and Apartement sold per cities over the years"
   ]
  },
  {
   "cell_type": "code",
   "execution_count": 70,
   "metadata": {},
   "outputs": [
    {
     "name": "stdout",
     "output_type": "stream",
     "text": [
      "+-----------+----------+----------------+-------+\n",
      "|       City|Local Type|NBofTransactions|Cluster|\n",
      "+-----------+----------+----------------+-------+\n",
      "|      PARIS| APARTMENT|          140719|      0|\n",
      "|  MARSEILLE| APARTMENT|           49134|      2|\n",
      "|   TOULOUSE| APARTMENT|           39751|      1|\n",
      "|       NICE| APARTMENT|           32906|      1|\n",
      "|       LYON| APARTMENT|           31206|      1|\n",
      "|     NANTES| APARTMENT|           22955|      2|\n",
      "|   BORDEAUX| APARTMENT|           21457|      1|\n",
      "|MONTPELLIER| APARTMENT|           20094|      2|\n",
      "|      LILLE| APARTMENT|           16149|      2|\n",
      "|  MARSEILLE|     HOUSE|            7342|      2|\n",
      "|   BORDEAUX|     HOUSE|            5955|      1|\n",
      "|   TOULOUSE|     HOUSE|            5890|      1|\n",
      "|     NANTES|     HOUSE|            5829|      2|\n",
      "|      LILLE|     HOUSE|            4932|      2|\n",
      "|MONTPELLIER|     HOUSE|            2295|      2|\n",
      "|       NICE|     HOUSE|            1595|      1|\n",
      "|       LYON|     HOUSE|             825|      1|\n",
      "|      PARIS|     HOUSE|             594|      0|\n",
      "+-----------+----------+----------------+-------+\n",
      "\n"
     ]
    }
   ],
   "source": [
    "#number of houses and appartement sold per cities over the 5 years\n",
    "\n",
    "spark.sql(\"SELECT City, `Local Type`, count(*) as NBofTransactions, Cluster \\\n",
    "          FROM transaction2 \\\n",
    "          GROUP BY City, `Local Type`, Cluster \\\n",
    "          ORDER BY NBofTransactions DESC\").show()"
   ]
  },
  {
   "cell_type": "code",
   "execution_count": 71,
   "metadata": {},
   "outputs": [],
   "source": [
    "NBofSaleType_df = spark.sql(\"SELECT City, `Local Type`, count(*) as NBofTransactions, Cluster \\\n",
    "          FROM transaction2 \\\n",
    "          GROUP BY City, `Local Type`, Cluster \\\n",
    "          ORDER BY NBofTransactions DESC\").toPandas()"
   ]
  },
  {
   "cell_type": "code",
   "execution_count": 72,
   "metadata": {},
   "outputs": [
    {
     "data": {
      "text/html": [
       "<div>\n",
       "<style scoped>\n",
       "    .dataframe tbody tr th:only-of-type {\n",
       "        vertical-align: middle;\n",
       "    }\n",
       "\n",
       "    .dataframe tbody tr th {\n",
       "        vertical-align: top;\n",
       "    }\n",
       "\n",
       "    .dataframe thead th {\n",
       "        text-align: right;\n",
       "    }\n",
       "</style>\n",
       "<table border=\"1\" class=\"dataframe\">\n",
       "  <thead>\n",
       "    <tr style=\"text-align: right;\">\n",
       "      <th></th>\n",
       "      <th>City</th>\n",
       "      <th>Local Type</th>\n",
       "      <th>NBofTransactions</th>\n",
       "      <th>Cluster</th>\n",
       "    </tr>\n",
       "  </thead>\n",
       "  <tbody>\n",
       "    <tr>\n",
       "      <th>0</th>\n",
       "      <td>PARIS</td>\n",
       "      <td>APARTMENT</td>\n",
       "      <td>140719</td>\n",
       "      <td>0</td>\n",
       "    </tr>\n",
       "    <tr>\n",
       "      <th>1</th>\n",
       "      <td>MARSEILLE</td>\n",
       "      <td>APARTMENT</td>\n",
       "      <td>49134</td>\n",
       "      <td>2</td>\n",
       "    </tr>\n",
       "    <tr>\n",
       "      <th>2</th>\n",
       "      <td>TOULOUSE</td>\n",
       "      <td>APARTMENT</td>\n",
       "      <td>39751</td>\n",
       "      <td>1</td>\n",
       "    </tr>\n",
       "    <tr>\n",
       "      <th>3</th>\n",
       "      <td>NICE</td>\n",
       "      <td>APARTMENT</td>\n",
       "      <td>32906</td>\n",
       "      <td>1</td>\n",
       "    </tr>\n",
       "    <tr>\n",
       "      <th>4</th>\n",
       "      <td>LYON</td>\n",
       "      <td>APARTMENT</td>\n",
       "      <td>31206</td>\n",
       "      <td>1</td>\n",
       "    </tr>\n",
       "    <tr>\n",
       "      <th>5</th>\n",
       "      <td>NANTES</td>\n",
       "      <td>APARTMENT</td>\n",
       "      <td>22955</td>\n",
       "      <td>2</td>\n",
       "    </tr>\n",
       "    <tr>\n",
       "      <th>6</th>\n",
       "      <td>BORDEAUX</td>\n",
       "      <td>APARTMENT</td>\n",
       "      <td>21457</td>\n",
       "      <td>1</td>\n",
       "    </tr>\n",
       "    <tr>\n",
       "      <th>7</th>\n",
       "      <td>MONTPELLIER</td>\n",
       "      <td>APARTMENT</td>\n",
       "      <td>20094</td>\n",
       "      <td>2</td>\n",
       "    </tr>\n",
       "    <tr>\n",
       "      <th>8</th>\n",
       "      <td>LILLE</td>\n",
       "      <td>APARTMENT</td>\n",
       "      <td>16149</td>\n",
       "      <td>2</td>\n",
       "    </tr>\n",
       "    <tr>\n",
       "      <th>9</th>\n",
       "      <td>MARSEILLE</td>\n",
       "      <td>HOUSE</td>\n",
       "      <td>7342</td>\n",
       "      <td>2</td>\n",
       "    </tr>\n",
       "    <tr>\n",
       "      <th>10</th>\n",
       "      <td>BORDEAUX</td>\n",
       "      <td>HOUSE</td>\n",
       "      <td>5955</td>\n",
       "      <td>1</td>\n",
       "    </tr>\n",
       "    <tr>\n",
       "      <th>11</th>\n",
       "      <td>TOULOUSE</td>\n",
       "      <td>HOUSE</td>\n",
       "      <td>5890</td>\n",
       "      <td>1</td>\n",
       "    </tr>\n",
       "    <tr>\n",
       "      <th>12</th>\n",
       "      <td>NANTES</td>\n",
       "      <td>HOUSE</td>\n",
       "      <td>5829</td>\n",
       "      <td>2</td>\n",
       "    </tr>\n",
       "    <tr>\n",
       "      <th>13</th>\n",
       "      <td>LILLE</td>\n",
       "      <td>HOUSE</td>\n",
       "      <td>4932</td>\n",
       "      <td>2</td>\n",
       "    </tr>\n",
       "    <tr>\n",
       "      <th>14</th>\n",
       "      <td>MONTPELLIER</td>\n",
       "      <td>HOUSE</td>\n",
       "      <td>2295</td>\n",
       "      <td>2</td>\n",
       "    </tr>\n",
       "    <tr>\n",
       "      <th>15</th>\n",
       "      <td>NICE</td>\n",
       "      <td>HOUSE</td>\n",
       "      <td>1595</td>\n",
       "      <td>1</td>\n",
       "    </tr>\n",
       "    <tr>\n",
       "      <th>16</th>\n",
       "      <td>LYON</td>\n",
       "      <td>HOUSE</td>\n",
       "      <td>825</td>\n",
       "      <td>1</td>\n",
       "    </tr>\n",
       "    <tr>\n",
       "      <th>17</th>\n",
       "      <td>PARIS</td>\n",
       "      <td>HOUSE</td>\n",
       "      <td>594</td>\n",
       "      <td>0</td>\n",
       "    </tr>\n",
       "  </tbody>\n",
       "</table>\n",
       "</div>"
      ],
      "text/plain": [
       "           City Local Type  NBofTransactions  Cluster\n",
       "0         PARIS  APARTMENT            140719        0\n",
       "1     MARSEILLE  APARTMENT             49134        2\n",
       "2      TOULOUSE  APARTMENT             39751        1\n",
       "3          NICE  APARTMENT             32906        1\n",
       "4          LYON  APARTMENT             31206        1\n",
       "5        NANTES  APARTMENT             22955        2\n",
       "6      BORDEAUX  APARTMENT             21457        1\n",
       "7   MONTPELLIER  APARTMENT             20094        2\n",
       "8         LILLE  APARTMENT             16149        2\n",
       "9     MARSEILLE      HOUSE              7342        2\n",
       "10     BORDEAUX      HOUSE              5955        1\n",
       "11     TOULOUSE      HOUSE              5890        1\n",
       "12       NANTES      HOUSE              5829        2\n",
       "13        LILLE      HOUSE              4932        2\n",
       "14  MONTPELLIER      HOUSE              2295        2\n",
       "15         NICE      HOUSE              1595        1\n",
       "16         LYON      HOUSE               825        1\n",
       "17        PARIS      HOUSE               594        0"
      ]
     },
     "execution_count": 72,
     "metadata": {},
     "output_type": "execute_result"
    }
   ],
   "source": [
    "NBofSaleType_df"
   ]
  },
  {
   "cell_type": "code",
   "execution_count": 101,
   "metadata": {},
   "outputs": [],
   "source": [
    "colors = { 'HOUSE' : '#39ff14', 'APARTMENT' : '#7f7f7f' }"
   ]
  },
  {
   "cell_type": "code",
   "execution_count": 102,
   "metadata": {},
   "outputs": [
    {
     "data": {
      "image/png": "[encoded data removed]",
      "text/plain": [
       "<Figure size 648x576 with 1 Axes>"
      ]
     },
     "metadata": {
      "needs_background": "light"
     },
     "output_type": "display_data"
    }
   ],
   "source": [
    "barplot_NBofSaletype = NBofSaleType_df.plot.bar(x='City', y='NBofTransactions', color=NBofSaleType_df[\"Local Type\"].map(colors))\n",
    "\n",
    "barplot_NBofSaletype.set_ylabel(\"Number of Transactions\")\n",
    "\n",
    "barplot_NBofSaletype.set_title('Number of sales by Local Type')\n",
    "\n",
    "plt.rcParams['figure.figsize'] = (9,8)\n"
   ]
  },
  {
   "cell_type": "markdown",
   "metadata": {},
   "source": [
    "#### <span style=\"color:midnightblue\"> Finding 5 conclusion:\n",
    "\n",
    "We can notice that the number of sales of apartments is significantly superior than the number of Houses sold. This gap will be wider over the years due to the phenomenon of gentrification."
   ]
  },
  {
   "cell_type": "markdown",
   "metadata": {},
   "source": [
    "### <span style=\"color:midnightblue\"> Finding 6 : The Prices Difference between Houses and Apartment"
   ]
  },
  {
   "cell_type": "code",
   "execution_count": 75,
   "metadata": {},
   "outputs": [
    {
     "name": "stdout",
     "output_type": "stream",
     "text": [
      "+-----------+----------+------------------+------------------+-------+\n",
      "|       City|Local Type|        PriceperM2|           Surface|Cluster|\n",
      "+-----------+----------+------------------+------------------+-------+\n",
      "|      PARIS|     HOUSE|10744.194294426095|138.22222222222223|      0|\n",
      "|      PARIS| APARTMENT| 8877.957681890763|53.741385313994556|      0|\n",
      "|       NICE|     HOUSE| 5245.839710241555|118.22884012539186|      1|\n",
      "|       LYON|     HOUSE|5077.7992301481445|119.84484848484848|      1|\n",
      "|   BORDEAUX| APARTMENT|  4565.90405014624|58.168756116884936|      1|\n",
      "|   BORDEAUX|     HOUSE| 4461.869842552145|109.01628883291352|      1|\n",
      "|  MARSEILLE|     HOUSE| 4096.728755265125| 93.19667665486243|      2|\n",
      "|       LYON| APARTMENT| 4054.641722389552| 64.87082612318144|      1|\n",
      "|       NICE| APARTMENT| 4035.606814308394|56.306904515893756|      1|\n",
      "|   TOULOUSE|     HOUSE|3688.5125325047497|105.01816638370119|      1|\n",
      "|     NANTES|     HOUSE| 3664.694393476717|103.87150454623435|      2|\n",
      "|      LILLE| APARTMENT|3597.4173753678974|53.546225772493656|      2|\n",
      "|MONTPELLIER|     HOUSE|3435.5098406500156|102.61917211328976|      2|\n",
      "|   TOULOUSE| APARTMENT|  3376.96571781441|55.488767578174134|      1|\n",
      "|MONTPELLIER| APARTMENT| 3225.961147875912| 54.59311237185229|      2|\n",
      "|  MARSEILLE| APARTMENT| 3192.510256869735| 59.69813164000488|      2|\n",
      "|     NANTES| APARTMENT|3104.4326366173027|57.107950337617076|      2|\n",
      "|      LILLE|     HOUSE| 2480.535417284477| 90.87408759124088|      2|\n",
      "+-----------+----------+------------------+------------------+-------+\n",
      "\n"
     ]
    }
   ],
   "source": [
    "spark.sql(\"SELECT City, `Local Type`, AVG(priceM2) AS PriceperM2, AVG(`Living Area`) as Surface, Cluster \\\n",
    "          FROM transaction2 \\\n",
    "          GROUP BY City, `Local Type`, Cluster \\\n",
    "          ORDER BY PriceperM2 DESC\").show()"
   ]
  },
  {
   "cell_type": "code",
   "execution_count": 76,
   "metadata": {},
   "outputs": [
    {
     "data": {
      "text/html": [
       "<div>\n",
       "<style scoped>\n",
       "    .dataframe tbody tr th:only-of-type {\n",
       "        vertical-align: middle;\n",
       "    }\n",
       "\n",
       "    .dataframe tbody tr th {\n",
       "        vertical-align: top;\n",
       "    }\n",
       "\n",
       "    .dataframe thead th {\n",
       "        text-align: right;\n",
       "    }\n",
       "</style>\n",
       "<table border=\"1\" class=\"dataframe\">\n",
       "  <thead>\n",
       "    <tr style=\"text-align: right;\">\n",
       "      <th></th>\n",
       "      <th>City</th>\n",
       "      <th>Local Type</th>\n",
       "      <th>PriceperM2</th>\n",
       "      <th>Surface</th>\n",
       "      <th>Cluster</th>\n",
       "    </tr>\n",
       "  </thead>\n",
       "  <tbody>\n",
       "    <tr>\n",
       "      <th>0</th>\n",
       "      <td>PARIS</td>\n",
       "      <td>HOUSE</td>\n",
       "      <td>10744.194294</td>\n",
       "      <td>138.222222</td>\n",
       "      <td>0</td>\n",
       "    </tr>\n",
       "    <tr>\n",
       "      <th>1</th>\n",
       "      <td>PARIS</td>\n",
       "      <td>APARTMENT</td>\n",
       "      <td>8877.957682</td>\n",
       "      <td>53.741385</td>\n",
       "      <td>0</td>\n",
       "    </tr>\n",
       "    <tr>\n",
       "      <th>2</th>\n",
       "      <td>NICE</td>\n",
       "      <td>HOUSE</td>\n",
       "      <td>5245.839710</td>\n",
       "      <td>118.228840</td>\n",
       "      <td>1</td>\n",
       "    </tr>\n",
       "    <tr>\n",
       "      <th>3</th>\n",
       "      <td>LYON</td>\n",
       "      <td>HOUSE</td>\n",
       "      <td>5077.799230</td>\n",
       "      <td>119.844848</td>\n",
       "      <td>1</td>\n",
       "    </tr>\n",
       "    <tr>\n",
       "      <th>4</th>\n",
       "      <td>BORDEAUX</td>\n",
       "      <td>APARTMENT</td>\n",
       "      <td>4565.904050</td>\n",
       "      <td>58.168756</td>\n",
       "      <td>1</td>\n",
       "    </tr>\n",
       "    <tr>\n",
       "      <th>5</th>\n",
       "      <td>BORDEAUX</td>\n",
       "      <td>HOUSE</td>\n",
       "      <td>4461.869843</td>\n",
       "      <td>109.016289</td>\n",
       "      <td>1</td>\n",
       "    </tr>\n",
       "    <tr>\n",
       "      <th>6</th>\n",
       "      <td>MARSEILLE</td>\n",
       "      <td>HOUSE</td>\n",
       "      <td>4096.728755</td>\n",
       "      <td>93.196677</td>\n",
       "      <td>2</td>\n",
       "    </tr>\n",
       "    <tr>\n",
       "      <th>7</th>\n",
       "      <td>LYON</td>\n",
       "      <td>APARTMENT</td>\n",
       "      <td>4054.641722</td>\n",
       "      <td>64.870826</td>\n",
       "      <td>1</td>\n",
       "    </tr>\n",
       "    <tr>\n",
       "      <th>8</th>\n",
       "      <td>NICE</td>\n",
       "      <td>APARTMENT</td>\n",
       "      <td>4035.606814</td>\n",
       "      <td>56.306905</td>\n",
       "      <td>1</td>\n",
       "    </tr>\n",
       "    <tr>\n",
       "      <th>9</th>\n",
       "      <td>TOULOUSE</td>\n",
       "      <td>HOUSE</td>\n",
       "      <td>3688.512533</td>\n",
       "      <td>105.018166</td>\n",
       "      <td>1</td>\n",
       "    </tr>\n",
       "    <tr>\n",
       "      <th>10</th>\n",
       "      <td>NANTES</td>\n",
       "      <td>HOUSE</td>\n",
       "      <td>3664.694393</td>\n",
       "      <td>103.871505</td>\n",
       "      <td>2</td>\n",
       "    </tr>\n",
       "    <tr>\n",
       "      <th>11</th>\n",
       "      <td>LILLE</td>\n",
       "      <td>APARTMENT</td>\n",
       "      <td>3597.417375</td>\n",
       "      <td>53.546226</td>\n",
       "      <td>2</td>\n",
       "    </tr>\n",
       "    <tr>\n",
       "      <th>12</th>\n",
       "      <td>MONTPELLIER</td>\n",
       "      <td>HOUSE</td>\n",
       "      <td>3435.509841</td>\n",
       "      <td>102.619172</td>\n",
       "      <td>2</td>\n",
       "    </tr>\n",
       "    <tr>\n",
       "      <th>13</th>\n",
       "      <td>TOULOUSE</td>\n",
       "      <td>APARTMENT</td>\n",
       "      <td>3376.965718</td>\n",
       "      <td>55.488768</td>\n",
       "      <td>1</td>\n",
       "    </tr>\n",
       "    <tr>\n",
       "      <th>14</th>\n",
       "      <td>MONTPELLIER</td>\n",
       "      <td>APARTMENT</td>\n",
       "      <td>3225.961148</td>\n",
       "      <td>54.593112</td>\n",
       "      <td>2</td>\n",
       "    </tr>\n",
       "    <tr>\n",
       "      <th>15</th>\n",
       "      <td>MARSEILLE</td>\n",
       "      <td>APARTMENT</td>\n",
       "      <td>3192.510257</td>\n",
       "      <td>59.698132</td>\n",
       "      <td>2</td>\n",
       "    </tr>\n",
       "    <tr>\n",
       "      <th>16</th>\n",
       "      <td>NANTES</td>\n",
       "      <td>APARTMENT</td>\n",
       "      <td>3104.432637</td>\n",
       "      <td>57.107950</td>\n",
       "      <td>2</td>\n",
       "    </tr>\n",
       "    <tr>\n",
       "      <th>17</th>\n",
       "      <td>LILLE</td>\n",
       "      <td>HOUSE</td>\n",
       "      <td>2480.535417</td>\n",
       "      <td>90.874088</td>\n",
       "      <td>2</td>\n",
       "    </tr>\n",
       "  </tbody>\n",
       "</table>\n",
       "</div>"
      ],
      "text/plain": [
       "           City Local Type    PriceperM2     Surface  Cluster\n",
       "0         PARIS      HOUSE  10744.194294  138.222222        0\n",
       "1         PARIS  APARTMENT   8877.957682   53.741385        0\n",
       "2          NICE      HOUSE   5245.839710  118.228840        1\n",
       "3          LYON      HOUSE   5077.799230  119.844848        1\n",
       "4      BORDEAUX  APARTMENT   4565.904050   58.168756        1\n",
       "5      BORDEAUX      HOUSE   4461.869843  109.016289        1\n",
       "6     MARSEILLE      HOUSE   4096.728755   93.196677        2\n",
       "7          LYON  APARTMENT   4054.641722   64.870826        1\n",
       "8          NICE  APARTMENT   4035.606814   56.306905        1\n",
       "9      TOULOUSE      HOUSE   3688.512533  105.018166        1\n",
       "10       NANTES      HOUSE   3664.694393  103.871505        2\n",
       "11        LILLE  APARTMENT   3597.417375   53.546226        2\n",
       "12  MONTPELLIER      HOUSE   3435.509841  102.619172        2\n",
       "13     TOULOUSE  APARTMENT   3376.965718   55.488768        1\n",
       "14  MONTPELLIER  APARTMENT   3225.961148   54.593112        2\n",
       "15    MARSEILLE  APARTMENT   3192.510257   59.698132        2\n",
       "16       NANTES  APARTMENT   3104.432637   57.107950        2\n",
       "17        LILLE      HOUSE   2480.535417   90.874088        2"
      ]
     },
     "execution_count": 76,
     "metadata": {},
     "output_type": "execute_result"
    }
   ],
   "source": [
    "PriceType_df = spark.sql(\"SELECT City, `Local Type`, AVG(priceM2) AS PriceperM2, AVG(`Living Area`) as Surface, Cluster \\\n",
    "          FROM transaction2 \\\n",
    "          GROUP BY City, `Local Type`, Cluster \\\n",
    "          ORDER BY PriceperM2 DESC\").toPandas()\n",
    "PriceType_df"
   ]
  },
  {
   "cell_type": "code",
   "execution_count": 98,
   "metadata": {},
   "outputs": [],
   "source": [
    "PriceType_pivot = PriceType_df.pivot(index='City', columns='Local Type', values='PriceperM2').fillna(0)\n"
   ]
  },
  {
   "cell_type": "code",
   "execution_count": 99,
   "metadata": {},
   "outputs": [
    {
     "data": {
      "text/html": [
       "<div>\n",
       "<style scoped>\n",
       "    .dataframe tbody tr th:only-of-type {\n",
       "        vertical-align: middle;\n",
       "    }\n",
       "\n",
       "    .dataframe tbody tr th {\n",
       "        vertical-align: top;\n",
       "    }\n",
       "\n",
       "    .dataframe thead th {\n",
       "        text-align: right;\n",
       "    }\n",
       "</style>\n",
       "<table border=\"1\" class=\"dataframe\">\n",
       "  <thead>\n",
       "    <tr style=\"text-align: right;\">\n",
       "      <th>Local Type</th>\n",
       "      <th>APARTMENT</th>\n",
       "      <th>HOUSE</th>\n",
       "    </tr>\n",
       "    <tr>\n",
       "      <th>City</th>\n",
       "      <th></th>\n",
       "      <th></th>\n",
       "    </tr>\n",
       "  </thead>\n",
       "  <tbody>\n",
       "    <tr>\n",
       "      <th>BORDEAUX</th>\n",
       "      <td>4565.904050</td>\n",
       "      <td>4461.869843</td>\n",
       "    </tr>\n",
       "    <tr>\n",
       "      <th>LILLE</th>\n",
       "      <td>3597.417375</td>\n",
       "      <td>2480.535417</td>\n",
       "    </tr>\n",
       "    <tr>\n",
       "      <th>LYON</th>\n",
       "      <td>4054.641722</td>\n",
       "      <td>5077.799230</td>\n",
       "    </tr>\n",
       "    <tr>\n",
       "      <th>MARSEILLE</th>\n",
       "      <td>3192.510257</td>\n",
       "      <td>4096.728755</td>\n",
       "    </tr>\n",
       "    <tr>\n",
       "      <th>MONTPELLIER</th>\n",
       "      <td>3225.961148</td>\n",
       "      <td>3435.509841</td>\n",
       "    </tr>\n",
       "    <tr>\n",
       "      <th>NANTES</th>\n",
       "      <td>3104.432637</td>\n",
       "      <td>3664.694393</td>\n",
       "    </tr>\n",
       "    <tr>\n",
       "      <th>NICE</th>\n",
       "      <td>4035.606814</td>\n",
       "      <td>5245.839710</td>\n",
       "    </tr>\n",
       "    <tr>\n",
       "      <th>PARIS</th>\n",
       "      <td>8877.957682</td>\n",
       "      <td>10744.194294</td>\n",
       "    </tr>\n",
       "    <tr>\n",
       "      <th>TOULOUSE</th>\n",
       "      <td>3376.965718</td>\n",
       "      <td>3688.512533</td>\n",
       "    </tr>\n",
       "  </tbody>\n",
       "</table>\n",
       "</div>"
      ],
      "text/plain": [
       "Local Type     APARTMENT         HOUSE\n",
       "City                                  \n",
       "BORDEAUX     4565.904050   4461.869843\n",
       "LILLE        3597.417375   2480.535417\n",
       "LYON         4054.641722   5077.799230\n",
       "MARSEILLE    3192.510257   4096.728755\n",
       "MONTPELLIER  3225.961148   3435.509841\n",
       "NANTES       3104.432637   3664.694393\n",
       "NICE         4035.606814   5245.839710\n",
       "PARIS        8877.957682  10744.194294\n",
       "TOULOUSE     3376.965718   3688.512533"
      ]
     },
     "execution_count": 99,
     "metadata": {},
     "output_type": "execute_result"
    }
   ],
   "source": [
    "PriceType_pivot"
   ]
  },
  {
   "cell_type": "code",
   "execution_count": 103,
   "metadata": {},
   "outputs": [
    {
     "data": {
      "text/plain": [
       "Text(0.5, 1.0, 'Price per Local Type per City')"
      ]
     },
     "execution_count": 103,
     "metadata": {},
     "output_type": "execute_result"
    },
    {
     "data": {
      "image/png": "[encoded data removed]",
      "text/plain": [
       "<Figure size 648x576 with 1 Axes>"
      ]
     },
     "metadata": {
      "needs_background": "light"
     },
     "output_type": "display_data"
    }
   ],
   "source": [
    "barplot = PriceType_pivot.plot(kind='bar', stacked=True, color = colors)\n",
    "\n",
    "\n",
    "barplot.set_ylabel(\"Price per M2 (€)\")\n",
    "\n",
    "barplot.set_title(\"Price per Local Type per City\")\n"
   ]
  },
  {
   "cell_type": "markdown",
   "metadata": {},
   "source": [
    "#### <span style=\"color:midnightblue\"> Finding 6 conclusion:\n",
    "\n",
    "We can notice a slight difference of price per m2 between House and apartment in the cities. The biggest difference of prices is in Paris: a house is 20% more expensive than an apartment. We can explain this easily, indeed, the houses offers on a city or around it, is more rare. This is the typical law of supply and demand."
   ]
  },
  {
   "cell_type": "code",
   "execution_count": null,
   "metadata": {},
   "outputs": [],
   "source": []
  }
 ],
 "metadata": {
  "kernelspec": {
   "display_name": "Python 3",
   "language": "python",
   "name": "python3"
  },
  "language_info": {
   "codemirror_mode": {
    "name": "ipython",
    "version": 3
   },
   "file_extension": ".py",
   "mimetype": "text/x-python",
   "name": "python",
   "nbconvert_exporter": "python",
   "pygments_lexer": "ipython3",
   "version": "3.8.6"
  }
 },
 "nbformat": 4,
 "nbformat_minor": 4
}
